{
 "cells": [
  {
   "attachments": {},
   "cell_type": "markdown",
   "metadata": {},
   "source": [
    "### 짝수 홀수 프로그램"
   ]
  },
  {
   "cell_type": "code",
   "execution_count": null,
   "metadata": {},
   "outputs": [],
   "source": [
    "# 짝수 홀수 프로그램\n",
    "\n",
    "def is_evenly_divisible(number):\n",
    "    # 여기에 코드를 작성하세요\n",
    "    return number%2 == 0\n",
    "\n",
    "# 테스트 코드\n",
    "print(is_evenly_divisible(3))\n",
    "print(is_evenly_divisible(7))\n",
    "print(is_evenly_divisible(8))\n",
    "print(is_evenly_divisible(218))\n",
    "print(is_evenly_divisible(317))"
   ]
  },
  {
   "attachments": {},
   "cell_type": "markdown",
   "metadata": {},
   "source": [
    "### 거스름돈 계산기"
   ]
  },
  {
   "cell_type": "code",
   "execution_count": null,
   "metadata": {},
   "outputs": [],
   "source": [
    "\n",
    "# 거스름돈 계산기\n",
    "\n",
    "def calculate_change(payment, cost):\n",
    "    change = payment - cost\n",
    "    \n",
    "    fifty_count = change // 50000  # 50,000원 지폐\n",
    "    ten_count = (change % 50000) // 10000  # 10,000원 지폐\n",
    "    five_count = (change % 10000) // 5000  # 5,000원 지폐\n",
    "    one_count = (change % 5000) // 1000  # 1,000원 지폐\n",
    "    print(\"50000원 지폐: {}장\".format(fifty_count))\n",
    "    print(\"10000원 지폐: {}장\".format(ten_count))\n",
    "    print(\"5000원 지폐: {}장\".format(five_count))\n",
    "    print(\"1000원 지폐: {}장\".format(one_count))\n",
    "    \n",
    "    \n",
    "# 테스트 코드\n",
    "calculate_change(100000, 33000)\n",
    "print()\n",
    "calculate_change(500000, 378000)"
   ]
  },
  {
   "cell_type": "code",
   "execution_count": null,
   "metadata": {},
   "outputs": [],
   "source": [
    "i = 2\n",
    "\n",
    "while i <= 100:\n",
    "    print(i)\n",
    "    i += 2"
   ]
  },
  {
   "cell_type": "code",
   "execution_count": null,
   "metadata": {},
   "outputs": [],
   "source": [
    "i = 100\n",
    "\n",
    "while i % 23 != 0:\n",
    "    i += 1\n",
    "    \n",
    "print(i)"
   ]
  },
  {
   "attachments": {},
   "cell_type": "markdown",
   "metadata": {},
   "source": [
    "### 학점 계산기"
   ]
  },
  {
   "cell_type": "code",
   "execution_count": null,
   "metadata": {},
   "outputs": [],
   "source": [
    "def print_grade(midterm_score, final_score):\n",
    "    total = midterm_score + final_score\n",
    "    if total >=90 :\n",
    "        print('A')\n",
    "    elif total >= 80:\n",
    "        print('B')\n",
    "    elif total >= 70:\n",
    "        print('C')\n",
    "    elif total >= 60:\n",
    "        print('D')\n",
    "    else:\n",
    "        print(\"F\")\n",
    "        \n",
    "   \n",
    "# 테스트 코드\n",
    "print_grade(40, 45)\n",
    "print_grade(20, 35)\n",
    "print_grade(30, 32)\n",
    "print_grade(50, 45)"
   ]
  },
  {
   "cell_type": "code",
   "execution_count": null,
   "metadata": {},
   "outputs": [],
   "source": [
    "\n",
    "i = 1\n",
    "while i < 100:\n",
    "    if i % 8 == 0 and i % 12 !=0:\n",
    "        print(i)\n",
    "    i += 1\n",
    "    "
   ]
  },
  {
   "cell_type": "code",
   "execution_count": null,
   "metadata": {},
   "outputs": [],
   "source": [
    "i  = 1\n",
    "total = 0\n",
    "\n",
    "while i < 1000:\n",
    "    if i % 2 == 0 or i % 3 == 0:\n",
    "        total += i\n",
    "    i += 1\n",
    "        \n",
    "print(total)"
   ]
  },
  {
   "cell_type": "code",
   "execution_count": null,
   "metadata": {},
   "outputs": [],
   "source": []
  },
  {
   "attachments": {},
   "cell_type": "markdown",
   "metadata": {},
   "source": [
    "### 약수 찾기"
   ]
  },
  {
   "cell_type": "code",
   "execution_count": null,
   "metadata": {},
   "outputs": [],
   "source": [
    "i = 1\n",
    "N = 120\n",
    "count = 0\n",
    "\n",
    "\n",
    "while i <= N:\n",
    "    if N % i == 0:\n",
    "        print(i)\n",
    "        count += 1    \n",
    "    i += 1\n",
    "    \n",
    "print(\"{}의 약수는 총 {}개입니다.\".format(N, count))"
   ]
  },
  {
   "cell_type": "code",
   "execution_count": null,
   "metadata": {},
   "outputs": [],
   "source": []
  },
  {
   "cell_type": "code",
   "execution_count": null,
   "metadata": {},
   "outputs": [],
   "source": [
    "INTEREST_RATE = 0.12\n",
    "APARTMENT_PRICE_2016 = 1100000000\n",
    "\n",
    "year = 1988\n",
    "bank_balance = 50000000\n",
    "\n",
    "\n",
    "while year < 2016:\n",
    "    bank_balance = bank_balance * (1 + INTEREST_RATE)\n",
    "    year += 1\n",
    "    \n",
    "if bank_balance > APARTMENT_PRICE_2016:\n",
    "    print(\"{}원 차이로 동일 아저씨 말씀이 맞습니다.\".format(int(bank_balance - APARTMENT_PRICE_2016)))\n",
    "else:\n",
    "    print(\"{}원 차이로 미란 아주머니 말씀이 맞습니다.\".format(int(APARTMENT_PRICE_2016 - bank_balance)))"
   ]
  },
  {
   "cell_type": "code",
   "execution_count": null,
   "metadata": {},
   "outputs": [],
   "source": [
    "a = 0\n",
    "b = 1\n",
    "i = 1\n",
    "\n",
    "while i <=50:\n",
    "    print(b)\n",
    "    temp = a\n",
    "    a = b\n",
    "    b = b + temp\n",
    "    i += 1"
   ]
  },
  {
   "cell_type": "code",
   "execution_count": null,
   "metadata": {},
   "outputs": [],
   "source": [
    "n = 1\n",
    "\n",
    "while n <= 9:\n",
    "    j = 1\n",
    "    while j <= 9:\n",
    "        print('{} * {} = {}'.format(n, j, n*j))\n",
    "        j += 1\n",
    "    n += 1"
   ]
  },
  {
   "attachments": {},
   "cell_type": "markdown",
   "metadata": {},
   "source": [
    "### 자릿수 합 구하기"
   ]
  },
  {
   "cell_type": "code",
   "execution_count": null,
   "metadata": {},
   "outputs": [],
   "source": [
    "# 자리수 합 리턴\n",
    "def sum_digit(num):\n",
    "    # 여기에 코드를 작성하세요\n",
    "    total = 0\n",
    "    str_num = str(num)\n",
    "\n",
    "\n",
    "    \n",
    "    for digit in str_num:\n",
    "        \n",
    "        total += int(digit)\n",
    "    return total\n",
    "# sum_digit(1)부터 sum_digit(1000)까지의 합 구하기\n",
    "# 여기에 코드를 작성하세요\n",
    "digit_total = 0\n",
    "\n",
    "for i in range(1, 1001):\n",
    "    digit_total += sum_digit(i)\n",
    "    \n",
    "print(digit_total)"
   ]
  },
  {
   "attachments": {},
   "cell_type": "markdown",
   "metadata": {},
   "source": [
    "### 숫자 맞히기 게임"
   ]
  },
  {
   "cell_type": "code",
   "execution_count": 1,
   "metadata": {},
   "outputs": [
    {
     "name": "stdout",
     "output_type": "stream",
     "text": [
      "down\n",
      "down\n",
      "축하합니다. 3번 만에 숫자를 맞히셨습니다.\n"
     ]
    }
   ],
   "source": [
    "import random\n",
    "\n",
    "guess = random.randint(1,20)\n",
    "cnt = 4\n",
    "\n",
    "while cnt > 0:\n",
    "    number = int(input(\"기회가{}번 남았습ㄴ디ㅏ. 1-20 사이의 숫자를 맞혀라\".format(cnt)))\n",
    "    if number == guess:\n",
    "        print('축하합니다. {}번 만에 숫자를 맞히셨습니다.'.format(5-cnt))\n",
    "        break\n",
    "    elif number < guess and 1 <= number <= 20:\n",
    "        print('up')\n",
    "        cnt -= 1\n",
    "    elif number > guess and 1 <= number <= 20:\n",
    "        print('down')\n",
    "        cnt -= 1\n",
    "    else:\n",
    "        print('올바르지 않은 값입니다.1-20 사이의 정수를 입력하세요.')\n",
    "        if cnt == 0:\n",
    "            print(f'아쉽군요. 정답은 {guess}입니다. 다시 도전하세요.')"
   ]
  }
 ],
 "metadata": {
  "kernelspec": {
   "display_name": "Python 3",
   "language": "python",
   "name": "python3"
  },
  "language_info": {
   "codemirror_mode": {
    "name": "ipython",
    "version": 3
   },
   "file_extension": ".py",
   "mimetype": "text/x-python",
   "name": "python",
   "nbconvert_exporter": "python",
   "pygments_lexer": "ipython3",
   "version": "3.11.3"
  },
  "orig_nbformat": 4
 },
 "nbformat": 4,
 "nbformat_minor": 2
}
