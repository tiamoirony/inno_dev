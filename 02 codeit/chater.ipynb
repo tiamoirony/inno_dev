{
 "cells": [
  {
   "attachments": {},
   "cell_type": "markdown",
   "metadata": {},
   "source": [
    "# 기초"
   ]
  },
  {
   "cell_type": "code",
   "execution_count": null,
   "metadata": {},
   "outputs": [],
   "source": [
    "# 알파벳 리스트의 인덱싱\n",
    "alphabets_list = ['A', 'B', 'C', 'D', 'E', 'F', 'G', 'H', 'I', 'J']\n",
    "print(alphabets_list[0])\n",
    "print(alphabets_list[1])\n",
    "print(alphabets_list[4])\n",
    "print(alphabets_list[-1])\n",
    "\n",
    "# 알파벳 문자열의 인덱싱\n",
    "alphabets_string = 'ABCDEFGHIJ'\n",
    "print(alphabets_string[0])\n",
    "print(alphabets_string[1])\n",
    "print(alphabets_string[4])\n",
    "print(alphabets_string[-1])"
   ]
  },
  {
   "cell_type": "code",
   "execution_count": null,
   "metadata": {},
   "outputs": [],
   "source": [
    "# 알파벳 리스트의 반복문\n",
    "alphabets_list = ['C', 'O', 'D', 'E', 'I', 'T']\n",
    "for alphabet in alphabets_list:\n",
    "    print(alphabet)\n",
    "\n",
    "# 알파벳 문자열의 반복문\n",
    "alphabets_string = 'CODEIT'\n",
    "for alphabet in alphabets_string:\n",
    "    print(alphabet)"
   ]
  },
  {
   "cell_type": "code",
   "execution_count": null,
   "metadata": {},
   "outputs": [],
   "source": [
    "# 알파벳 리스트의 슬라이싱\n",
    "alphabets_list = ['A', 'B', 'C', 'D', 'E', 'F', 'G', 'H', 'I', 'J']\n",
    "print(alphabets_list[0:5])\n",
    "print(alphabets_list[4:])\n",
    "print(alphabets_list[:4])\n",
    "\n",
    "# 알파벳 문자열의 슬라이싱\n",
    "alphabets_string = 'ABCDEFGHIJ'\n",
    "print(alphabets_string[0:5])\n",
    "print(alphabets_string[4:])\n",
    "print(alphabets_string[:4])"
   ]
  },
  {
   "cell_type": "code",
   "execution_count": null,
   "metadata": {},
   "outputs": [],
   "source": [
    "# 리스트의 덧셈 연산\n",
    "list1 = [1, 2, 3, 4]\n",
    "list2 = [5, 6, 7, 8]\n",
    "list3 = list1 + list2\n",
    "print(list3)\n",
    "\n",
    "# 문자열의 덧셈 연산\n",
    "string1 = '1234'\n",
    "string2 = '5678'\n",
    "string3 = string1 + string2\n",
    "print(string3)"
   ]
  },
  {
   "cell_type": "code",
   "execution_count": null,
   "metadata": {},
   "outputs": [],
   "source": [
    "# 리스트의 길이 재기\n",
    "print(len(['H', 'E', 'L', 'L', 'O']))\n",
    "\n",
    "# 문자열의 길이 재기\n",
    "print(len(\"Hello, world!\"))"
   ]
  },
  {
   "cell_type": "code",
   "execution_count": null,
   "metadata": {},
   "outputs": [],
   "source": []
  },
  {
   "attachments": {},
   "cell_type": "markdown",
   "metadata": {},
   "source": [
    "# 리스트"
   ]
  },
  {
   "cell_type": "code",
   "execution_count": null,
   "metadata": {},
   "outputs": [],
   "source": [
    "def fahrenheit_to_celsius(fahrenheit):\n",
    "    return (fahrenheit - 32) * 5 / 9\n",
    "\n",
    "\n",
    "temperature_list = [40, 15, 32, 64, -4, 11]\n",
    "print(\"화씨 온도 리스트: {}\".format(temperature_list))  # 화씨 온도 출력\n",
    "\n",
    "\n",
    "i = 0\n",
    "while i < len(temperature_list):\n",
    "    temperature_list[i] = round(fahrenheit_to_celsius(temperature_list[i]),1)\n",
    "    i += 1\n",
    "    \n",
    "    \n",
    "    \n",
    "print(\"섭씨 온도 리스트: {}\".format(temperature_list))  # 섭씨 온도 출력"
   ]
  },
  {
   "cell_type": "code",
   "execution_count": null,
   "metadata": {},
   "outputs": [],
   "source": [
    "# 원화(￦)에서 달러($)로 변환하는 함수\n",
    "def krw_to_usd(krw):\n",
    "    return krw / 1000\n",
    "\n",
    "\n",
    "# 달러($)에서 엔화(￥)로 변환하는 함수\n",
    "def usd_to_jpy(usd):\n",
    "    # 여기에\n",
    "    return usd / 8 * 1000\n",
    "\n",
    "\n",
    "# 원화(￦)으로 각각 얼마인가요?\n",
    "prices = [34000, 13000, 5000, 21000, 1000, 2000, 8000, 3000]\n",
    "print(\"한국 화폐: \" + str(prices))\n",
    " \n",
    "# prices를 원화(￦)에서 달러($)로 변환하기\n",
    "# 여기에 코드를 작성하세요\n",
    "i = 0 \n",
    "while i < len(prices):\n",
    "    prices[i] = krw_to_usd(prices[i])\n",
    "    i += 1\n",
    "# 달러($)로 각각 얼마인가요?\n",
    "print(\"미국 화폐: \" + str(prices))\n",
    "\n",
    "# prices를 달러($)에서 엔화(￥)으로 변환하기\n",
    "# 여기에 코드를 작성하세요\n",
    "i = 0 \n",
    "while i < len(prices):\n",
    "    prices[i] = usd_to_jpy(prices[i])\n",
    "    i += 1\n",
    "# 엔화(￥)으로 각각 얼마인가요?\n",
    "print(\"일본 화폐: \" + str(prices))"
   ]
  },
  {
   "cell_type": "code",
   "execution_count": null,
   "metadata": {},
   "outputs": [],
   "source": [
    "# 빈 리스트 만들기\n",
    "numbers = []\n",
    "print(numbers)\n",
    "\n",
    "# numbers에 값들 추가\n",
    "numbers.append(1)\n",
    "numbers.append(7)\n",
    "numbers.append(3)\n",
    "numbers.append(6)\n",
    "numbers.append(5)\n",
    "numbers.append(2)\n",
    "numbers.append(13)\n",
    "numbers.append(14)\n",
    "print(numbers)\n",
    "\n",
    "# numbers에서 홀수 제거\n",
    "i = 0\n",
    "while i < len(numbers):\n",
    "    if numbers[i] % 2 == 1:\n",
    "        del numbers[i]\n",
    "    else:\n",
    "        i += 1\n",
    "        \n",
    "print(numbers)\n",
    "\n",
    "# numbers의 인덱스 0 자리에 20이라는 값 삽입\n",
    "numbers.insert(0,20)\n",
    "print(numbers)\n",
    "\n",
    "# numbers를 정렬해서 출력\n",
    "# 코드를 입력하세요\n",
    "\n",
    "numbers.sort()\n",
    "print(numbers)\n"
   ]
  },
  {
   "cell_type": "code",
   "execution_count": null,
   "metadata": {},
   "outputs": [],
   "source": [
    "# value가 some_list의 요소인지 확인\n",
    "def in_list(some_list, value):\n",
    "    i = 0\n",
    "    while i < len(some_list):\n",
    "        # some_list에서 value를 찾으면 True를 리턴\n",
    "        if some_list[i] == value:\n",
    "            return True\n",
    "        i = i + 1\n",
    "\n",
    "    # 만약 some_list에서 value를 발견하지 못했으면 False를 리턴\n",
    "    return False\n",
    "\n",
    "# 테스트\n",
    "primes = [2, 3, 5, 7, 11, 13, 17, 19, 23]\n",
    "print(in_list(primes, 7))\n",
    "print(in_list(primes, 12))"
   ]
  },
  {
   "cell_type": "code",
   "execution_count": null,
   "metadata": {},
   "outputs": [],
   "source": [
    "primes = [2, 3, 5, 7, 11, 13, 17, 19, 23]\n",
    "print(7 in primes)\n",
    "print(12 in primes)"
   ]
  },
  {
   "cell_type": "code",
   "execution_count": null,
   "metadata": {},
   "outputs": [],
   "source": [
    "primes = [2, 3, 5, 7, 11, 13, 17, 19, 23]\n",
    "print(7 not in primes)\n",
    "print(12 not in primes)"
   ]
  },
  {
   "cell_type": "code",
   "execution_count": null,
   "metadata": {},
   "outputs": [],
   "source": [
    "# 세 번의 시험을 보는 수업\n",
    "grades = [[62, 75, 77], [78, 81, 86], [85, 91, 89]]\n",
    "\n",
    "# 첫 번째 학생의 성적\n",
    "print(grades[0])\n",
    "\n",
    "# 세 번째 학생의 성적\n",
    "print(grades[2])\n",
    "\n",
    "# 첫 번째 학생의 첫 번째 시험 성적\n",
    "print(grades[0][0])\n",
    "\n",
    "# 세 번째 학생의 두 번째 시험 성적\n",
    "print(grades[2][1])\n",
    "\n",
    "# 첫 번째 시험의 평균\n",
    "print((grades[0][0] + grades[1][0] + grades[2][0]) / 3)"
   ]
  },
  {
   "cell_type": "code",
   "execution_count": 1,
   "metadata": {},
   "outputs": [
    {
     "name": "stdout",
     "output_type": "stream",
     "text": [
      "뒤집어진 리스트: [19, 17, 13, 11, 7, 5, 3, 2]\n"
     ]
    }
   ],
   "source": [
    "numbers = [2, 3, 5, 7, 11, 13, 17, 19]\n",
    "\n",
    "# 리스트 뒤집기\n",
    "for left in range(len(numbers) // 2):\n",
    "\n",
    "    # 인덱스 left와 대칭인 인덱스 right 계산\n",
    "    right = len(numbers) - left - 1\n",
    "\n",
    "    # 위치 바꾸기\n",
    "    temp = numbers[left]\n",
    "    numbers[left] = numbers[right]\n",
    "    numbers[right] = temp\n",
    "\n",
    "print(\"뒤집어진 리스트: \" + str(numbers))"
   ]
  },
  {
   "attachments": {},
   "cell_type": "markdown",
   "metadata": {},
   "source": [
    "# dict"
   ]
  },
  {
   "cell_type": "code",
   "execution_count": null,
   "metadata": {},
   "outputs": [],
   "source": [
    "# 투표 결과 리스트\n",
    "votes = ['김영자', '강승기', '최만수', '김영자', '강승기', '강승기', '최만수', '김영자', \\\n",
    "'최만수', '김영자', '최만수', '김영자', '김영자', '최만수', '최만수', '최만수', '강승기', \\\n",
    "'강승기', '김영자', '김영자', '최만수', '김영자', '김영자', '강승기', '김영자']\n",
    "\n",
    "# 후보별 득표수 사전\n",
    "vote_counter = {}\n",
    "\n",
    "# 리스트 votes를 이용해서 사전 vote_counter를 정리하기\n",
    "for name in votes:\n",
    "    # 여기에 코드를 작성하세요\n",
    "    if name not in vote_counter:\n",
    "        vote_counter[name] = 1 # 해당 후보(name)가 아직 vote_counter에 없는 케이스\n",
    "    else:\n",
    "        vote_counter[name] += 1 # 해당 후보(name)가 이미 vote_counter에 있는 케이스\n",
    "        \n",
    "# 후보별 득표수 출력\n",
    "print(vote_counter)"
   ]
  },
  {
   "attachments": {},
   "cell_type": "markdown",
   "metadata": {},
   "source": [
    "# for"
   ]
  },
  {
   "cell_type": "code",
   "execution_count": null,
   "metadata": {},
   "outputs": [],
   "source": [
    "for a in range(1, 400):\n",
    "    for b in range(1, 400):\n",
    "        c = 400 - a - b\n",
    "        if a * a + b * b == c * c and a < b < c:\n",
    "            print(a * b * c)"
   ]
  },
  {
   "cell_type": "code",
   "execution_count": 9,
   "metadata": {},
   "outputs": [
    {
     "name": "stdout",
     "output_type": "stream",
     "text": [
      "0\n",
      "1\n",
      "2\n",
      "3\n",
      "뒤집어진 리스트: [19, 17, 13, 11, 7, 5, 3, 2]\n"
     ]
    }
   ],
   "source": [
    "numbers = [2, 3, 5, 7, 11, 13, 17, 19]\n",
    "\n",
    "# 리스트 뒤집기\n",
    "for left in range(len(numbers) // 2):\n",
    "    print(left)\n",
    "    # 인덱스 left와 대칭인 인덱스 right 계산\n",
    "    right = len(numbers) - left - 1\n",
    "    # print(right)\n",
    "\n",
    "    # 위치 바꾸기\n",
    "    temp = numbers[left]\n",
    "    numbers[left] = numbers[right]\n",
    "    numbers[right] = temp\n",
    "\n",
    "print(\"뒤집어진 리스트: \" + str(numbers))"
   ]
  },
  {
   "attachments": {},
   "cell_type": "markdown",
   "metadata": {},
   "source": [
    "# 제어문"
   ]
  },
  {
   "attachments": {},
   "cell_type": "markdown",
   "metadata": {},
   "source": [
    "## while"
   ]
  },
  {
   "cell_type": "code",
   "execution_count": null,
   "metadata": {},
   "outputs": [],
   "source": [
    "treeHit = 0\n",
    "while treeHit < 10:\n",
    "    treeHit = treeHit +1\n",
    "    print(\"나무를 %d번 찍었습니다.\" % treeHit)\n",
    "if treeHit == 10:\n",
    "    print(\"나무 넘어갑니다.\")"
   ]
  },
  {
   "cell_type": "code",
   "execution_count": null,
   "metadata": {},
   "outputs": [],
   "source": [
    "prompt = '''\n",
    "1. Add\n",
    "2. Del\n",
    "3. List\n",
    "4. Quit\n",
    "\n",
    "Enter number:'''\n",
    "\n",
    "number = 0 \n",
    "while number != 4:\n",
    "    print(prompt)\n",
    "    number = int(input())"
   ]
  },
  {
   "cell_type": "code",
   "execution_count": null,
   "metadata": {},
   "outputs": [],
   "source": [
    "coffee = 10\n",
    "money = 300\n",
    "\n",
    "while money:\n",
    "    print('돈을 받았으니 커피를 줍니다.')\n",
    "    coffee = coffee -1\n",
    "    print('남은 커피의 양은 %d' % coffee)\n",
    "    if coffee == 0:\n",
    "        print('커피가 다 떨어졌습니다. 판매를 중지합니다.')\n",
    "        break"
   ]
  },
  {
   "cell_type": "code",
   "execution_count": null,
   "metadata": {},
   "outputs": [],
   "source": [
    "coffee  = 10\n",
    "while True:\n",
    "    money = int(input('돈을 넣어 주세요:'))\n",
    "    if money == 300:\n",
    "        print('커피를 줍니다.')\n",
    "        coffee = coffee -1\n",
    "    elif money > 300:\n",
    "        print('거스름돈 %d를 주고 커피를 줍니다.' % (money -300))\n",
    "        coffee = coffee -1\n",
    "    else:\n",
    "        print('돈을 다시 돌려주고 커피를 주지 않습니다.')\n",
    "        print('남은 커피의 양은 %d개 입니다.' % coffee)\n",
    "    if coffee == 0:\n",
    "        print('커피가 다 떨어졌습니다. 판매를 중지 합니다.')\n",
    "        break"
   ]
  },
  {
   "cell_type": "code",
   "execution_count": null,
   "metadata": {},
   "outputs": [],
   "source": [
    "a = 0\n",
    "while a < 10:\n",
    "    a = a + 1       # a+=1 \n",
    "    if a % 2 == 0: continue\n",
    "    print(a)"
   ]
  },
  {
   "attachments": {},
   "cell_type": "markdown",
   "metadata": {},
   "source": [
    "### break"
   ]
  },
  {
   "cell_type": "code",
   "execution_count": 1,
   "metadata": {},
   "outputs": [
    {
     "name": "stdout",
     "output_type": "stream",
     "text": [
      "115\n"
     ]
    }
   ],
   "source": [
    "i = 100\n",
    "\n",
    "while True:\n",
    "    # i가 23의 배수면 반복문을 끝냄\n",
    "    if i % 23 == 0:\n",
    "        break\n",
    "    i = i + 1\n",
    "\n",
    "print(i)"
   ]
  },
  {
   "attachments": {},
   "cell_type": "markdown",
   "metadata": {},
   "source": [
    "### continue"
   ]
  },
  {
   "cell_type": "code",
   "execution_count": 2,
   "metadata": {},
   "outputs": [
    {
     "name": "stdout",
     "output_type": "stream",
     "text": [
      "2\n",
      "4\n",
      "6\n",
      "8\n",
      "10\n",
      "12\n",
      "14\n"
     ]
    }
   ],
   "source": [
    "i = 0\n",
    "\n",
    "while i < 15:\n",
    "    i = i + 1\n",
    "\n",
    "    # i가 홀수면 print(i) 안 하고 바로 조건 부분으로 돌아감\n",
    "    if i % 2 == 1:\n",
    "        continue\n",
    "    print(i)"
   ]
  }
 ],
 "metadata": {
  "kernelspec": {
   "display_name": "Python 3",
   "language": "python",
   "name": "python3"
  },
  "language_info": {
   "codemirror_mode": {
    "name": "ipython",
    "version": 3
   },
   "file_extension": ".py",
   "mimetype": "text/x-python",
   "name": "python",
   "nbconvert_exporter": "python",
   "pygments_lexer": "ipython3",
   "version": "3.11.3"
  },
  "orig_nbformat": 4
 },
 "nbformat": 4,
 "nbformat_minor": 2
}
