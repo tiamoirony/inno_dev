{
 "cells": [
  {
   "cell_type": "code",
   "execution_count": 17,
   "metadata": {},
   "outputs": [],
   "source": [
    "import os\n",
    "\n",
    "for filename in os.listdir():\n",
    "    if filename.endswith('.txt'):\n",
    "        third_char = filename.split('_')[3]\n",
    "        with open(filename, 'a') as f:\n",
    "            f.write(third_char + '\\n')"
   ]
  },
  {
   "cell_type": "code",
   "execution_count": 12,
   "metadata": {},
   "outputs": [
    {
     "ename": "TypeError",
     "evalue": "endswith() takes at least 1 argument (0 given)",
     "output_type": "error",
     "traceback": [
      "\u001b[1;31m---------------------------------------------------------------------------\u001b[0m",
      "\u001b[1;31mTypeError\u001b[0m                                 Traceback (most recent call last)",
      "Cell \u001b[1;32mIn[12], line 4\u001b[0m\n\u001b[0;32m      1\u001b[0m \u001b[39mimport\u001b[39;00m \u001b[39mos\u001b[39;00m\n\u001b[0;32m      3\u001b[0m \u001b[39mfor\u001b[39;00m filename \u001b[39min\u001b[39;00m os\u001b[39m.\u001b[39mlistdir():\n\u001b[1;32m----> 4\u001b[0m     \u001b[39mif\u001b[39;00m filename\u001b[39m.\u001b[39;49mendswith():\n\u001b[0;32m      5\u001b[0m         third_char \u001b[39m=\u001b[39m filename\u001b[39m.\u001b[39msplit(\u001b[39m'\u001b[39m\u001b[39m_\u001b[39m\u001b[39m'\u001b[39m)[\u001b[39m3\u001b[39m]\n\u001b[0;32m      6\u001b[0m         \u001b[39mprint\u001b[39m(third_char)\n",
      "\u001b[1;31mTypeError\u001b[0m: endswith() takes at least 1 argument (0 given)"
     ]
    }
   ],
   "source": [
    "import os\n",
    "\n",
    "for filename in os.listdir():\n",
    "    if filename.endswith():\n",
    "        third_char = filename.split('_')[3]\n",
    "        print(third_char)"
   ]
  },
  {
   "cell_type": "code",
   "execution_count": 86,
   "metadata": {},
   "outputs": [
    {
     "ename": "IndexError",
     "evalue": "list index out of range",
     "output_type": "error",
     "traceback": [
      "\u001b[1;31m---------------------------------------------------------------------------\u001b[0m",
      "\u001b[1;31mIndexError\u001b[0m                                Traceback (most recent call last)",
      "Cell \u001b[1;32mIn[86], line 5\u001b[0m\n\u001b[0;32m      3\u001b[0m \u001b[39mfor\u001b[39;00m filename \u001b[39min\u001b[39;00m os\u001b[39m.\u001b[39mlistdir(\u001b[39m\"\u001b[39m\u001b[39m.\u001b[39m\u001b[39m\"\u001b[39m):\n\u001b[0;32m      4\u001b[0m     \u001b[39mif\u001b[39;00m os\u001b[39m.\u001b[39mpath\u001b[39m.\u001b[39misfile(filename):\n\u001b[1;32m----> 5\u001b[0m         new_string \u001b[39m=\u001b[39m filename\u001b[39m.\u001b[39;49msplit(\u001b[39m'\u001b[39;49m\u001b[39m_\u001b[39;49m\u001b[39m'\u001b[39;49m)[\u001b[39m4\u001b[39;49m]\n\u001b[0;32m      6\u001b[0m         \u001b[39m# new_filename = third_char.remove()\u001b[39;00m\n\u001b[0;32m      7\u001b[0m         \u001b[39m# os.rename(filename, new_filename)\u001b[39;00m\n",
      "\u001b[1;31mIndexError\u001b[0m: list index out of range"
     ]
    }
   ],
   "source": [
    "import os\n",
    "\n",
    "for filename in os.listdir(\".\"):\n",
    "    if os.path.isfile(filename):\n",
    "        new_string = filename.split('_')[4]\n",
    "        # new_filename = third_char.remove()\n",
    "        # os.rename(filename, new_filename)"
   ]
  },
  {
   "cell_type": "code",
   "execution_count": 148,
   "metadata": {},
   "outputs": [
    {
     "ename": "FileExistsError",
     "evalue": "[WinError 183] 파일이 이미 있으므로 만들 수 없습니다: '1_20211208140219_452197_경기4배1604.txt' -> '1_20211208140219_452197'",
     "output_type": "error",
     "traceback": [
      "\u001b[1;31m---------------------------------------------------------------------------\u001b[0m",
      "\u001b[1;31mFileExistsError\u001b[0m                           Traceback (most recent call last)",
      "Cell \u001b[1;32mIn[148], line 10\u001b[0m\n\u001b[0;32m      7\u001b[0m new_parts \u001b[39m=\u001b[39m parts[:\u001b[39m3\u001b[39m] \u001b[39m+\u001b[39m parts[\u001b[39m4\u001b[39m:]\n\u001b[0;32m      9\u001b[0m new_filename \u001b[39m=\u001b[39m new_filename \u001b[39m=\u001b[39m \u001b[39m'\u001b[39m\u001b[39m_\u001b[39m\u001b[39m'\u001b[39m\u001b[39m.\u001b[39mjoin(new_parts)\n\u001b[1;32m---> 10\u001b[0m os\u001b[39m.\u001b[39;49mrename(filename, new_filename)\n",
      "\u001b[1;31mFileExistsError\u001b[0m: [WinError 183] 파일이 이미 있으므로 만들 수 없습니다: '1_20211208140219_452197_경기4배1604.txt' -> '1_20211208140219_452197'"
     ]
    }
   ],
   "source": [
    "import os\n",
    "\n",
    "for filename in os.listdir():\n",
    "    if os.path.isfile(filename):\n",
    "        parts = filename.split('_')\n",
    "\n",
    "        new_parts = parts[:3] + parts[4:]\n",
    "\n",
    "        new_filename = new_filename = '_'.join(new_parts)\n",
    "        os.rename(filename, new_filename)\n"
   ]
  },
  {
   "cell_type": "code",
   "execution_count": null,
   "metadata": {},
   "outputs": [],
   "source": []
  }
 ],
 "metadata": {
  "kernelspec": {
   "display_name": "Python 3",
   "language": "python",
   "name": "python3"
  },
  "language_info": {
   "codemirror_mode": {
    "name": "ipython",
    "version": 3
   },
   "file_extension": ".py",
   "mimetype": "text/x-python",
   "name": "python",
   "nbconvert_exporter": "python",
   "pygments_lexer": "ipython3",
   "version": "3.9.0"
  },
  "orig_nbformat": 4
 },
 "nbformat": 4,
 "nbformat_minor": 2
}
