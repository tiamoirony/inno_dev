{
 "cells": [
  {
   "cell_type": "code",
   "execution_count": 24,
   "metadata": {},
   "outputs": [
    {
     "name": "stdout",
     "output_type": "stream",
     "text": [
      "나는 상어 이다 : 생성된 객체로 메서드 호출\n",
      "바다 동물\n",
      "나는 늑대 이다 : 생성된 객체로 메서드 호출\n",
      "육지 동물\n"
     ]
    }
   ],
   "source": [
    "class Monster:\n",
    "    def __init__(self, name):\n",
    "        self.hello = '생성된 객체로 메서드 호출'\n",
    "        self.name = name\n",
    "\n",
    "    def say(self, kind):\n",
    "\n",
    "        print('나는 {} 이다 : {}'.format(self.name, self.hello))\n",
    "        print('{} 동물'.format(kind))\n",
    "\n",
    "\n",
    "sherk = Monster('상어') # 클래스 호출하여 객체 생성 \n",
    "\n",
    "# Monster.say(sherk, '바다')\n",
    "sherk.say('바다')\n",
    "\n",
    "\n",
    "wolf = Monster('늑대')\n",
    "wolf.say('육지')"
   ]
  },
  {
   "cell_type": "code",
   "execution_count": 1,
   "metadata": {},
   "outputs": [
    {
     "name": "stdout",
     "output_type": "stream",
     "text": [
      "3\n",
      "4\n",
      "8\n",
      "9\n"
     ]
    }
   ],
   "source": [
    "student1 = 0\n",
    "student2 = 0\n",
    "\n",
    "def plus1(num):\n",
    "    global student1\n",
    "    student1 += num\n",
    "    return student1\n",
    "\n",
    "def plus2(num):\n",
    "    global student2\n",
    "    student2 += num\n",
    "    return student2\n",
    "\n",
    "print(plus1(3)) # 3\n",
    "print(plus2(4)) # 4\n",
    "print(plus1(5)) # 8\n",
    "print(plus2(5)) # 9"
   ]
  },
  {
   "cell_type": "code",
   "execution_count": null,
   "metadata": {},
   "outputs": [],
   "source": [
    "def plus1(num):\n",
    "    global student1\n",
    "    student1 += num\n",
    "    return student1\n",
    "\n",
    "def minus1(num):\n",
    "    global student1\n",
    "    student1 -= num\n",
    "    return student1\n",
    "\n",
    "def plus2(num):\n",
    "    global student2\n",
    "    student2 += num\n",
    "    return student2\n",
    "\n",
    "def minus1(num):\n",
    "    global student2\n",
    "    student2 -= num\n",
    "    return student2"
   ]
  },
  {
   "cell_type": "code",
   "execution_count": 2,
   "metadata": {},
   "outputs": [
    {
     "name": "stdout",
     "output_type": "stream",
     "text": [
      "3\n",
      "4\n",
      "8\n",
      "9\n"
     ]
    }
   ],
   "source": [
    "class Oper:\n",
    "    def __init__(self):\n",
    "        self.res = 0\n",
    "    \n",
    "    def plus(self, num):\n",
    "        self.res += num\n",
    "        return self.res\n",
    "    \n",
    "    def minus(self, num):\n",
    "        self.res -= num\n",
    "        return self.res\n",
    "\n",
    "student1 = Oper()\n",
    "student2 = Oper()\n",
    "\n",
    "print(student1.plus(3)) # 3\n",
    "print(student2.plus(4)) # 4\n",
    "print(student1.plus(5)) # 8\n",
    "print(student2.plus(5)) # 9"
   ]
  },
  {
   "cell_type": "code",
   "execution_count": 3,
   "metadata": {},
   "outputs": [],
   "source": [
    "class Oper:\n",
    "    def __init__(self):\n",
    "        self.res = 0\n",
    "    \n",
    "    def plus(self, num):\n",
    "        self.res += num\n",
    "        return self.res\n",
    "\n",
    "student1 = Oper()\n",
    "student2 = Oper()\n",
    "student3 = Oper()\n",
    "...\n",
    "student10 = Oper()"
   ]
  },
  {
   "attachments": {},
   "cell_type": "markdown",
   "metadata": {},
   "source": [
    "클래스를 이용하면 코드를 간결하게 작성할 수 있으며, 특정 기능 또는 특정 변수에만 작용하는 함수를 쉽게 유지 보수할 수 있는 장점이 있다."
   ]
  },
  {
   "cell_type": "code",
   "execution_count": 8,
   "metadata": {},
   "outputs": [
    {
     "name": "stdout",
     "output_type": "stream",
     "text": [
      "안녕하세요. 저는 마리아입니다.\n",
      "이름: 마리아\n",
      "나이: 20\n",
      "주소: 서울시 서초구 반포동\n"
     ]
    }
   ],
   "source": [
    "class Person:\n",
    "    def __init__(self, name, age, address):\n",
    "        self.hello = '안녕하세요.'\n",
    "        self.name = name\n",
    "        self.age = age\n",
    "        self.address = address\n",
    " \n",
    "    def greeting(self):\n",
    "        print('{0} 저는 {1}입니다.'.format(self.hello, self.name))\n",
    " \n",
    "maria = Person('마리아', 20, '서울시 서초구 반포동')\n",
    "maria.greeting()    # 안녕하세요. 저는 마리아입니다.\n",
    " \n",
    "print('이름:', maria.name)       # 마리아\n",
    "print('나이:', maria.age)        # 20\n",
    "print('주소:', maria.address)    # 서울시 서초구 반포동"
   ]
  },
  {
   "cell_type": "code",
   "execution_count": 10,
   "metadata": {},
   "outputs": [
    {
     "name": "stdout",
     "output_type": "stream",
     "text": [
      "안녕하세요. 저는 마리아입니다.\n",
      "이름: 마리아\n",
      "나이: 20\n",
      "주소: 서울시 서초구 반포동\n"
     ]
    }
   ],
   "source": [
    "class Person:\n",
    "    def __init__(self, name, age, address):\n",
    "        self.hello = '안녕하세요.'\n",
    "        self.name = name\n",
    "        self.age = age\n",
    "        self.address = address\n",
    " \n",
    "    def greeting(self):\n",
    "        print('{0} 저는 {1}입니다.'.format(self.hello, self.name))\n",
    " \n",
    "maria = Person('마리아', 20, '서울시 서초구 반포동')\n",
    "maria.greeting()    # 안녕하세요. 저는 마리아입니다.\n",
    " \n",
    "print('이름:', maria.name)       # 마리아\n",
    "print('나이:', maria.age)        # 20\n",
    "print('주소:', maria.address)    # 서울시 서초구 반포동"
   ]
  }
 ],
 "metadata": {
  "kernelspec": {
   "display_name": "Python 3",
   "language": "python",
   "name": "python3"
  },
  "language_info": {
   "codemirror_mode": {
    "name": "ipython",
    "version": 3
   },
   "file_extension": ".py",
   "mimetype": "text/x-python",
   "name": "python",
   "nbconvert_exporter": "python",
   "pygments_lexer": "ipython3",
   "version": "3.9.0"
  },
  "orig_nbformat": 4
 },
 "nbformat": 4,
 "nbformat_minor": 2
}
