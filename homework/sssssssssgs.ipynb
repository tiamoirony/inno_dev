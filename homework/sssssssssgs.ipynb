{
 "cells": [
  {
   "cell_type": "code",
   "execution_count": 2,
   "metadata": {},
   "outputs": [
    {
     "name": "stdout",
     "output_type": "stream",
     "text": [
      "보트를 타고 가라\n"
     ]
    }
   ],
   "source": [
    "pocket = ['paper', 'cellphone', 'card']\n",
    "\n",
    "\n",
    "try:\n",
    "    \n",
    "    if 'money' in pocket:\n",
    "        print('택시를 타고 가라')\n",
    "\n",
    "    elif 'card':\n",
    "        print('보트를 타고 가라')\n",
    "                            \n",
    "\n",
    "\n",
    "    else:\n",
    "        print('걸어가라')\n",
    "\n",
    "except Exception as a:\n",
    "    print(a)"
   ]
  },
  {
   "cell_type": "code",
   "execution_count": 6,
   "metadata": {},
   "outputs": [
    {
     "name": "stdout",
     "output_type": "stream",
     "text": [
      "[5, 0, 1, 2, 3, 4]\n",
      "[4, 5, 0, 1, 2, 3]\n",
      "[3, 4, 5, 0, 1, 2]\n",
      "[2, 3, 4, 5, 0, 1]\n",
      "[1, 2, 3, 4, 5, 0]\n"
     ]
    }
   ],
   "source": [
    "a = [0, 1, 2, 3, 4, 5]\n",
    "\n",
    "for i in range(0, 5):\n",
    "    a.insert(0, a.pop())\n",
    "    print(a)"
   ]
  },
  {
   "cell_type": "code",
   "execution_count": 8,
   "metadata": {},
   "outputs": [
    {
     "name": "stdout",
     "output_type": "stream",
     "text": [
      "[5, 0, 1, 2, 3, 4]\n",
      "[4, 5, 0, 1, 2, 3]\n",
      "[3, 4, 5, 0, 1, 2]\n",
      "[2, 3, 4, 5, 0, 1]\n",
      "[1, 2, 3, 4, 5, 0]\n",
      "[2, 3, 4, 5, 0, 1]\n",
      "[2, 4, 5, 0, 1, 3]\n",
      "[2, 4, 5, 1, 3, 0]\n",
      "[4, 5, 1, 3, 0, 2]\n",
      "[4, 5, 3, 0, 2, 1]\n",
      "[4, 3, 0, 2, 1, 5]\n"
     ]
    }
   ],
   "source": [
    "a = [0, 1, 2, 3, 4, 5]\n",
    "\n",
    "for i in range(0, 5):\n",
    "    a.insert(0, a.pop())\n",
    "    print(a)\n",
    "\n",
    "rev_a = a\n",
    "for let in reversed(list(rev_a)):\n",
    "    last = rev_a.pop(a[5])\n",
    "    rev_a.append(last)\n",
    "\n",
    "\n",
    "    print(rev_a)"
   ]
  }
 ],
 "metadata": {
  "kernelspec": {
   "display_name": "Python 3",
   "language": "python",
   "name": "python3"
  },
  "language_info": {
   "codemirror_mode": {
    "name": "ipython",
    "version": 3
   },
   "file_extension": ".py",
   "mimetype": "text/x-python",
   "name": "python",
   "nbconvert_exporter": "python",
   "pygments_lexer": "ipython3",
   "version": "3.11.3"
  },
  "orig_nbformat": 4
 },
 "nbformat": 4,
 "nbformat_minor": 2
}
