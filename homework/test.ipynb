{
 "cells": [
  {
   "cell_type": "code",
   "execution_count": 38,
   "metadata": {},
   "outputs": [
    {
     "name": "stdout",
     "output_type": "stream",
     "text": [
      "=pytho\n",
      "==pyth\n",
      "===pyt\n",
      "====py\n",
      "=====p\n",
      "======\n"
     ]
    }
   ],
   "source": [
    "a = 'python'\n",
    "b = '='\n",
    "\n",
    "\n",
    "for i in range(0, 6): \n",
    "    \n",
    "    a = b + a\n",
    "\n",
    "    print(a[0:6])\n"
   ]
  },
  {
   "cell_type": "code",
   "execution_count": 92,
   "metadata": {},
   "outputs": [],
   "source": [
    "for i in range(10, 1):\n",
    "    print(i)"
   ]
  },
  {
   "cell_type": "code",
   "execution_count": 78,
   "metadata": {},
   "outputs": [
    {
     "name": "stdout",
     "output_type": "stream",
     "text": [
      "=python\n",
      "=python\n",
      "=python\n",
      "=python\n",
      "=python\n",
      "=python\n"
     ]
    }
   ],
   "source": [
    "a = 'python'\n",
    "b = '='\n",
    "\n",
    "a.split()\n",
    "\n",
    "for i in range(0, 6): \n",
    "    \n",
    "    c = b + a\n",
    "    c.replace('p', \"=\")\n",
    "\n",
    "\n",
    "    print(c)\n"
   ]
  },
  {
   "cell_type": "code",
   "execution_count": 71,
   "metadata": {},
   "outputs": [
    {
     "data": {
      "text/plain": [
       "['python']"
      ]
     },
     "execution_count": 71,
     "metadata": {},
     "output_type": "execute_result"
    }
   ],
   "source": [
    "a = 'python'\n",
    "b = '='\n",
    "\n",
    "a.split()"
   ]
  },
  {
   "cell_type": "code",
   "execution_count": 90,
   "metadata": {},
   "outputs": [
    {
     "name": "stdout",
     "output_type": "stream",
     "text": [
      "[5, 0, 1, 2, 3, 4]\n",
      "[4, 5, 0, 1, 2, 3]\n",
      "[3, 4, 5, 0, 1, 2]\n",
      "[2, 3, 4, 5, 0, 1]\n",
      "[1, 2, 3, 4, 5, 0]\n",
      "[2, 3, 4, 5, 0, 1]\n",
      "[3, 4, 5, 0, 1, 2]\n",
      "[4, 5, 0, 1, 2, 3]\n",
      "[5, 0, 1, 2, 3, 4]\n",
      "[0, 1, 2, 3, 4, 5]\n",
      "[1, 2, 3, 4, 5, 0]\n"
     ]
    }
   ],
   "source": [
    "a = [0, 1, 2, 3, 4, 5]\n",
    "\n",
    "for i in range(0, 5):\n",
    "    a.insert(0, a.pop())\n",
    "    print(a)\n",
    "\n",
    "dev = a\n",
    "\n",
    "for let in reversed(list(dev)):\n",
    "\n",
    "    \n",
    "    dev = dev[1:] + [dev[0]]\n",
    "\n",
    "    print(dev)"
   ]
  },
  {
   "cell_type": "code",
   "execution_count": 89,
   "metadata": {},
   "outputs": [
    {
     "name": "stdout",
     "output_type": "stream",
     "text": [
      "[2, 3, 4, 5, 0, 1]\n"
     ]
    }
   ],
   "source": [
    "a = [1, 2, 3, 4, 5, 0]\n",
    "\n",
    "a = a[1:] + [a[0]]\n",
    "\n",
    "\n",
    "print(a)"
   ]
  },
  {
   "cell_type": "code",
   "execution_count": 42,
   "metadata": {},
   "outputs": [
    {
     "name": "stdout",
     "output_type": "stream",
     "text": [
      "[0, 5, 4, 3, 2, 1]\n",
      "0\n",
      "5\n",
      "4\n",
      "3\n",
      "2\n"
     ]
    }
   ],
   "source": [
    "rev_a = list(reversed(a))\n",
    "\n",
    "print(rev_a)\n",
    "\n",
    "for i in range(len(rev_a)-1):\n",
    "    print(rev_a[i])"
   ]
  },
  {
   "cell_type": "code",
   "execution_count": 37,
   "metadata": {},
   "outputs": [
    {
     "name": "stdout",
     "output_type": "stream",
     "text": [
      "[1, 2, 3, 4, 5, 0]\n",
      "[2, 3, 4, 5, 0, 1]\n",
      "[3, 4, 5, 0, 1, 2]\n",
      "[4, 5, 0, 1, 2, 3]\n",
      "[5, 0, 1, 2, 3, 4]\n"
     ]
    }
   ],
   "source": [
    "\n",
    "a = [[5, 0, 1, 2, 3, 4],\n",
    "[4, 5, 0, 1, 2, 3],\n",
    "[3, 4, 5, 0, 1, 2],\n",
    "[2, 3, 4, 5, 0, 1],\n",
    "[1, 2, 3, 4, 5, 0]]\n",
    "\n",
    "\n",
    "for let in reversed(list(a)):\n",
    "\n",
    "    print(let)"
   ]
  },
  {
   "cell_type": "code",
   "execution_count": 39,
   "metadata": {},
   "outputs": [
    {
     "name": "stdout",
     "output_type": "stream",
     "text": [
      "['python', 'life', 'is', 'too']\n",
      "['python', 'python', 'life', 'is']\n",
      "['python', 'python', 'python', 'life']\n"
     ]
    }
   ],
   "source": [
    "c = ['life', 'is', 'too', 'short']\n",
    "\n",
    "\n",
    "for i in range(0, 3):\n",
    "\n",
    "    c.insert(0, 'python')\n",
    "    c.pop()\n",
    "    print(c)"
   ]
  },
  {
   "cell_type": "code",
   "execution_count": null,
   "metadata": {},
   "outputs": [],
   "source": []
  },
  {
   "cell_type": "code",
   "execution_count": 18,
   "metadata": {},
   "outputs": [
    {
     "data": {
      "text/plain": [
       "['0', '1', '2', [], '4', '5', '6', '7']"
      ]
     },
     "execution_count": 18,
     "metadata": {},
     "output_type": "execute_result"
    }
   ],
   "source": [
    "b = ['b1', '1', '2', '3', '4', '5', '6', '7']\n",
    "\n",
    "\n",
    "a = input('몇층으로 가세요?')\n",
    "\n",
    "b[int(a)] = []\n",
    "\n",
    "b\n",
    "\n"
   ]
  }
 ],
 "metadata": {
  "kernelspec": {
   "display_name": "Python 3",
   "language": "python",
   "name": "python3"
  },
  "language_info": {
   "codemirror_mode": {
    "name": "ipython",
    "version": 3
   },
   "file_extension": ".py",
   "mimetype": "text/x-python",
   "name": "python",
   "nbconvert_exporter": "python",
   "pygments_lexer": "ipython3",
   "version": "3.9.0"
  },
  "orig_nbformat": 4
 },
 "nbformat": 4,
 "nbformat_minor": 2
}
