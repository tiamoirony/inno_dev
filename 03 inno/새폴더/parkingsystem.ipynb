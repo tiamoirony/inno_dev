{
 "cells": [
  {
   "cell_type": "code",
   "execution_count": 6,
   "metadata": {},
   "outputs": [
    {
     "name": "stdout",
     "output_type": "stream",
     "text": [
      "['안녕']\n"
     ]
    }
   ],
   "source": [
    "\n",
    "\n",
    "plates = []\n",
    "\n",
    "scan = input('입력하세요:')\n",
    "\n",
    "plates.append(scan)\n",
    "\n",
    "print(plates)\n"
   ]
  },
  {
   "cell_type": "code",
   "execution_count": 29,
   "metadata": {},
   "outputs": [
    {
     "name": "stdout",
     "output_type": "stream",
     "text": [
      "레간자 입차 하였습니다.\n",
      "이 리스트에 추가되었습니다.\n",
      "레간자 입차 하였습니다.\n",
      "이미 리스트에 존재합니다.\n",
      "소나타 입차 하였습니다.\n",
      "이 리스트에 추가되었습니다.\n",
      "q 입차 하였습니다.\n",
      "['레간자', '소나타']\n"
     ]
    }
   ],
   "source": [
    "plates = []\n",
    "\n",
    "while True:\n",
    "    scan = input('입력하세요(q를 입력하면 닫힘): ')\n",
    "    \n",
    "\n",
    "    print(scan, '스캔 하였습니다.')\n",
    "\n",
    "    if scan == 'q':\n",
    "        break\n",
    "\n",
    "    if scan not in plates:\n",
    "        plates.append(scan)\n",
    "        print('리스트에 추가되었습니다.')\n",
    "    else:\n",
    "        print('이미 리스트에 존재합니다.')\n",
    "\n",
    "\n",
    "print(plates)"
   ]
  },
  {
   "cell_type": "code",
   "execution_count": 28,
   "metadata": {},
   "outputs": [
    {
     "name": "stdout",
     "output_type": "stream",
     "text": [
      "마티즈 이차량은 출차 하였습니다.\n",
      "['레간자', '소나타']\n"
     ]
    }
   ],
   "source": [
    "while True:\n",
    "    scan = input('입력하세요(q를 입력하면 닫힘): ')\n",
    "    \n",
    "\n",
    "    if scan == 'q':\n",
    "        break\n",
    "\n",
    "    else :\n",
    "        scan in plates\n",
    "        plates.remove(scan)\n",
    "        print(scan, '이차량은 출차 하였습니다.')\n",
    "\n",
    "print(plates)"
   ]
  }
 ],
 "metadata": {
  "kernelspec": {
   "display_name": "Python 3",
   "language": "python",
   "name": "python3"
  },
  "language_info": {
   "codemirror_mode": {
    "name": "ipython",
    "version": 3
   },
   "file_extension": ".py",
   "mimetype": "text/x-python",
   "name": "python",
   "nbconvert_exporter": "python",
   "pygments_lexer": "ipython3",
   "version": "3.11.3"
  },
  "orig_nbformat": 4
 },
 "nbformat": 4,
 "nbformat_minor": 2
}
