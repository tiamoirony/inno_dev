{
 "cells": [
  {
   "cell_type": "code",
   "execution_count": 1,
   "metadata": {},
   "outputs": [
    {
     "data": {
      "text/plain": [
       "'11:03:43'"
      ]
     },
     "execution_count": 1,
     "metadata": {},
     "output_type": "execute_result"
    }
   ],
   "source": [
    "import time\n",
    "\n",
    "time.strftime('%X', time.localtime(time.time()))\n"
   ]
  },
  {
   "cell_type": "code",
   "execution_count": 24,
   "metadata": {},
   "outputs": [
    {
     "name": "stdout",
     "output_type": "stream",
     "text": [
      "입차되어 리스트에 추가되었습니다.\n",
      "{'레간자': datetime.datetime(2023, 5, 24, 13, 34, 14, 545541)}\n"
     ]
    }
   ],
   "source": [
    "# 입차\n",
    "\n",
    "# 1분에 100원인 주차장입니다.\n",
    "\n",
    "from datetime import datetime\n",
    "\n",
    "dic_plates = {}\n",
    "\n",
    "while True:\n",
    "    scan = input('입력하세요(q를 입력하면 닫힘): ')\n",
    "\n",
    "\n",
    "    # print(scan, '스캔 하였습니다.')\n",
    "\n",
    "    if scan == 'q':\n",
    "        break\n",
    "\n",
    "\n",
    "    if scan not in dic_plates:\n",
    "        in_time = datetime.now()\n",
    "        dic_plates[scan] = in_time\n",
    "\n",
    "        print('입차되어 리스트에 추가되었습니다.')\n",
    "        # 게이트가 열렸습니다.\n",
    "\n",
    "\n",
    "    else:\n",
    "        print('이미 리스트에 존재합니다.')\n",
    "\n",
    "\n",
    "print(dic_plates)"
   ]
  },
  {
   "cell_type": "code",
   "execution_count": 22,
   "metadata": {},
   "outputs": [
    {
     "name": "stdout",
     "output_type": "stream",
     "text": [
      "18\n",
      "주차요금은 1800원 입니다.\n",
      "버스 이차량은 출차 하였습니다.\n",
      "{'스포티지': datetime.datetime(2023, 5, 24, 13, 9, 50, 530735)}\n"
     ]
    }
   ],
   "source": [
    "# 출차\n",
    "\n",
    "import math\n",
    "\n",
    "while True:\n",
    "    scan = input('입력하세요(q를 입력하면 닫힘): ')\n",
    "\n",
    "\n",
    "    if scan == 'q':\n",
    "        break\n",
    "    \n",
    "    else :\n",
    "        now_time = datetime.now()           # 현재시간 가져오기\n",
    "        \n",
    "        scan in dic_plates\n",
    "\n",
    "        in_time = dic_plates.get(scan)\n",
    "\n",
    "        price_time = now_time - in_time       # 현재시간에서 들어온 시간 빼기\n",
    "        price_time = price_time.seconds/60    # 분으로 변경\n",
    "        price_time = math.trunc(price_time)   # 내림\n",
    "\n",
    "        print(price_time)\n",
    "\n",
    "        price = price_time * 100               # 주 차 요금 100 곱해주기 \n",
    "        # 결제시스템  추가 \n",
    "        # 결제 완료 되면 게이트 열림\n",
    "        dic_plates.pop(scan)\n",
    "\n",
    "\n",
    "        print('주차요금은 {}원 입니다.'.format(price))\n",
    "        print(scan, '이차량은 출차 하였습니다.')\n",
    "        break\n",
    "\n",
    "print(dic_plates)"
   ]
  }
 ],
 "metadata": {
  "kernelspec": {
   "display_name": "Python 3",
   "language": "python",
   "name": "python3"
  },
  "language_info": {
   "codemirror_mode": {
    "name": "ipython",
    "version": 3
   },
   "file_extension": ".py",
   "mimetype": "text/x-python",
   "name": "python",
   "nbconvert_exporter": "python",
   "pygments_lexer": "ipython3",
   "version": "3.11.3"
  },
  "orig_nbformat": 4
 },
 "nbformat": 4,
 "nbformat_minor": 2
}
