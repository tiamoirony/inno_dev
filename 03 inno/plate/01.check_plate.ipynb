{
 "cells": [
  {
   "cell_type": "code",
   "execution_count": 24,
   "metadata": {},
   "outputs": [
    {
     "name": "stdout",
     "output_type": "stream",
     "text": [
      "['25어저서울25어', '0644169', '36서울9567']\n",
      "<__main__.Start object at 0x00000241D55AB190>\n",
      "<__main__.Start object at 0x00000241D55776D0>\n",
      "<__main__.Start object at 0x00000241D551B1D0>\n"
     ]
    }
   ],
   "source": [
    "class Start:\n",
    "    def __init__(self, plate):\n",
    "        self.plate = plate\n",
    "\n",
    "\n",
    "        basic = ['가', '거', '고', '구', '나', '너', '노', '누','다','더','도','루', '라','러','로','루','마', '머','모','무','버','보','부','서','소','수','어','오','우','저','조','주']\n",
    "        rant = ['하', '허', '호']\n",
    "        buisnss = ['아', '바', '사', '자', \"배\"]\n",
    "\n",
    "        # print(len(basic))\n",
    "\n",
    "        self.hangul = basic + rant + buisnss\n",
    "        self.local = ['서울', '부산','대구','인천','광주','대전','울산','경기','강원','충북','충남','전북','전남','경북','경남','제주','세종']\n",
    "\n",
    "\n",
    "        # print(len(self.hangul))\n",
    "        # print(len(self.local))\n",
    "\n",
    "    def errormessage(self, errorcode):\n",
    "        d = {\n",
    "            101 : '번호판 자리가 맞지 않습니다.',\n",
    "            202 : '번호판 끝에서 네번째까지 네자리가 아니거나 숫자가 아닙니다.',\n",
    "            303 : '번호판 끝에서 다섯번째 자리가 맞지 않거나 문자가 아닙니다.',\n",
    "            404 : '해당 지역명이 아니거나 오타입니다.',\n",
    "            505 : '지역명 다음 두자리가 두자리거나 숫자여야합니다.',\n",
    "            606 : '해당 앞에서 둘째 짜리까지 두자리가 아니거나 숫자가 아닙니다.',\n",
    "            707 : '해당 앞에서 셋째 짜리까지 세자리가 아니거나 숫자가 아닙니다.',\n",
    "            1000 : '통과입니다.'\n",
    "            }\n",
    "        return d[errorcode]\n",
    "    \n",
    "    def check(self):\n",
    "        if len(self.plate) not in [7, 8, 9]:             # 번호판 자릿수 7,8,9 가 아니면 101 에러\n",
    "            return 101, self.errormessage(101)\n",
    "\n",
    "        elif not (self.plate[-4:].isdigit()) :           # 번호판 끝에서 4자리거나 숫자가 아니면 에러\n",
    "            return self.plate, 202, self.errormessage(202)\n",
    "\n",
    "        elif not (self.plate[-5]) in self.hangul:       # 번호판 끝에서 5째 hangul 변수 안에 없으면 에러 \n",
    "            return 303, self.errormessage(303)\n",
    "        \n",
    "        elif len(self.plate) == 9:                      # 9자리 중에서\n",
    "\n",
    "            if not self.plate[:2] in self.local:        # 번호판 앞에 두자리 local 리스트 안에 없으면 에러\n",
    "                return 404, self.errormessage(404)\n",
    "            \n",
    "            elif not(self.plate[2:4].isdigit()):        # 번호판 앞에서 2자리, 숫자가 아니면 에러 \n",
    "                return 505, self.errormessage(505)\n",
    "\n",
    "        elif len(self.plate) == 8:                      # 8자리 중에서\n",
    "            if not (self.plate[:3].isdigit()):          # 번호판 앞에서 세자리, 숫자가 아니면 에러\n",
    "                return 606, self.errormessage(606)\n",
    "\n",
    "        elif len(self.plate) == 7:                      # 7자리 중에서\n",
    "            if not (self.plate[:2].isdigit()):          # 번호판 앞에서 두자리, 숫자가 아니면 에러\n",
    "                return 707, self.errormessage(707)\n",
    "        \n",
    "        return 1000, self.errormessage(1000)            # 성공입니다.\n",
    "\n",
    "plate = ['25어저서울25어', '0644169', '36서울9567']\n",
    "\n",
    "for i in plate:\n",
    "    Start()\n",
    "\n",
    "\n",
    "for i in plate:\n",
    "\n",
    "\n",
    "    a = Start(i)\n",
    "    a.check()\n",
    "\n",
    "    print(a)"
   ]
  },
  {
   "cell_type": "code",
   "execution_count": 23,
   "metadata": {},
   "outputs": [
    {
     "data": {
      "text/plain": [
       "(101, '번호판 자리가 맞지 않습니다.')"
      ]
     },
     "execution_count": 23,
     "metadata": {},
     "output_type": "execute_result"
    }
   ],
   "source": [
    "plate = ['25어저서울25어', '0644169', '36서울9567']\n",
    "\n",
    "\n",
    "\n",
    "\n",
    "a = Start(plate)\n",
    "a.check()\n"
   ]
  },
  {
   "cell_type": "code",
   "execution_count": 23,
   "metadata": {},
   "outputs": [
    {
     "data": {
      "text/plain": [
       "('25어저서울25어', 202, '번호판 끝 네번째까지 네자리가 아니거나 숫자가 아닙니다.')"
      ]
     },
     "execution_count": 23,
     "metadata": {},
     "output_type": "execute_result"
    }
   ],
   "source": [
    "c = Start('25어저서울25어')\n",
    "c.check()"
   ]
  },
  {
   "cell_type": "code",
   "execution_count": 9,
   "metadata": {},
   "outputs": [
    {
     "data": {
      "text/plain": [
       "(303, '번호판 끝 다섯번째 자리가 맞지 않거나 문자가 아닙니다.')"
      ]
     },
     "execution_count": 9,
     "metadata": {},
     "output_type": "execute_result"
    }
   ],
   "source": [
    "d = Start('0644169')\n",
    "d.check()"
   ]
  },
  {
   "cell_type": "code",
   "execution_count": 19,
   "metadata": {},
   "outputs": [
    {
     "data": {
      "text/plain": [
       "(303, '번호판 끝 다섯번째 자리가 맞지 않거나 문자가 아닙니다.')"
      ]
     },
     "execution_count": 19,
     "metadata": {},
     "output_type": "execute_result"
    }
   ],
   "source": [
    "e = Start('36서울9567')\n",
    "e.check()"
   ]
  },
  {
   "cell_type": "code",
   "execution_count": 18,
   "metadata": {},
   "outputs": [
    {
     "data": {
      "text/plain": [
       "(303, '번호판 끝 다섯번째 자리가 맞지 않거나 문자가 아닙니다.')"
      ]
     },
     "execution_count": 18,
     "metadata": {},
     "output_type": "execute_result"
    }
   ],
   "source": [
    "f = Start('363서98363')\n",
    "f.check()"
   ]
  },
  {
   "cell_type": "code",
   "execution_count": 17,
   "metadata": {},
   "outputs": [
    {
     "data": {
      "text/plain": [
       "(202, '번호판 끝 네번째까지 네자리가 아니거나 숫자가 아닙니다.')"
      ]
     },
     "execution_count": 17,
     "metadata": {},
     "output_type": "execute_result"
    }
   ],
   "source": [
    "g = Start('196나196나9')\n",
    "g.check()"
   ]
  },
  {
   "cell_type": "code",
   "execution_count": 16,
   "metadata": {},
   "outputs": [
    {
     "data": {
      "text/plain": [
       "(606, '해당 앞에서 둘째 짜리까지 두자리가 아니거나 숫자가 아닙니다.')"
      ]
     },
     "execution_count": 16,
     "metadata": {},
     "output_type": "execute_result"
    }
   ],
   "source": [
    "h = Start('충기4아3613')\n",
    "h.check()"
   ]
  },
  {
   "cell_type": "code",
   "execution_count": 15,
   "metadata": {},
   "outputs": [
    {
     "data": {
      "text/plain": [
       "(404, '해당 지역명이 아니거나 오타입니다.')"
      ]
     },
     "execution_count": 15,
     "metadata": {},
     "output_type": "execute_result"
    }
   ],
   "source": [
    "i = Start('전주80다4628')\n",
    "i.check()"
   ]
  },
  {
   "cell_type": "code",
   "execution_count": 14,
   "metadata": {},
   "outputs": [
    {
     "data": {
      "text/plain": [
       "(404, '해당 지역명이 아니거나 오타입니다.')"
      ]
     },
     "execution_count": 14,
     "metadata": {},
     "output_type": "execute_result"
    }
   ],
   "source": [
    "j = Start('인원31바7921')\n",
    "j.check()"
   ]
  },
  {
   "cell_type": "code",
   "execution_count": 13,
   "metadata": {},
   "outputs": [
    {
     "data": {
      "text/plain": [
       "(404, '해당 지역명이 아니거나 오타입니다.')"
      ]
     },
     "execution_count": 13,
     "metadata": {},
     "output_type": "execute_result"
    }
   ],
   "source": [
    "k = Start('396주호1050')\n",
    "k.check()"
   ]
  },
  {
   "cell_type": "code",
   "execution_count": 12,
   "metadata": {},
   "outputs": [
    {
     "data": {
      "text/plain": [
       "(303, '번호판 끝 다섯번째 자리가 맞지 않거나 문자가 아닙니다.')"
      ]
     },
     "execution_count": 12,
     "metadata": {},
     "output_type": "execute_result"
    }
   ],
   "source": [
    "l = Start('05ㅁ1371')\n",
    "l.check()"
   ]
  },
  {
   "cell_type": "code",
   "execution_count": 30,
   "metadata": {},
   "outputs": [
    {
     "name": "stdout",
     "output_type": "stream",
     "text": [
      "7\n"
     ]
    }
   ],
   "source": [
    "class MyError(Exception):\n",
    "    def __str__(self): \n",
    "\n",
    "        return \"허용되지 않는 번호판입니다.\"\n",
    "\n",
    "\n",
    "hangul = ['가', '아']\n",
    "local = ['서울', '대전'] \n",
    "\n",
    "\n",
    "def check(plate):\n",
    "\n",
    "\n",
    "    if len(plate) not in [7, 8, 9]:\n",
    "        raise MyError()\n",
    "\n",
    "    if not (plate[-4:].isdigit()) :\n",
    "        raise MyError()\n",
    "    \n",
    "    if not (plate[-5]).isalpha():\n",
    "        raise MyError()\n",
    "    \n",
    "\n",
    "    if not (plate[-7:-5].isdigit()):\n",
    "        if not (plate[-8:-5].isdigit()):\n",
    "            raise MyError()\n",
    "\n",
    "    print(len(plate))\n",
    "\n",
    "    if len(plate) == 9:\n",
    "        if not (plate[:2]) in local:\n",
    "            raise MyError()\n",
    "\n",
    "    # if not (plate[0:2].isalpha()):\n",
    "    #     raise MyError()\n",
    "\n",
    "        # if not (plate[-4:].isdigit()):\n",
    "        #     if not (plate[-5].isalpha()):\n",
    "\n",
    "try:\n",
    "\n",
    "    # check('121가1234')\n",
    "    check('23가1234')\n",
    "    # check('서울23가1234')\n",
    "\n",
    "\n",
    "\n",
    "except MyError as e:\n",
    "    print(e)"
   ]
  },
  {
   "cell_type": "code",
   "execution_count": null,
   "metadata": {},
   "outputs": [],
   "source": [
    "# hangul = ['가', '아']\n",
    "# local = ['서율', '대전']\n",
    "\n",
    "\n",
    "# class MyError(Exception):\n",
    "#     def __str__(self): \n",
    "\n",
    "#         return \"허용되지 않는 번호판입니다.\"\n",
    "    \n",
    "# hangul = ['가', '아']\n",
    "# local = ['서울', '대전'] \n",
    "\n",
    "# def check(plate):\n",
    "\n",
    "\n",
    "#     if len(plate) not in [7, 8, 9]:\n",
    "#         raise MyError()\n",
    "\n",
    "#     if not (plate[-4:].isdigit()) :\n",
    "#         raise MyError()\n",
    "    \n",
    "#     if not (plate[-5]) in hangul:\n",
    "#         raise MyError()\n",
    "\n",
    "#     if not (plate[-7:-5].isdigit()):\n",
    "        \n",
    "#         raise MyError()\n",
    "\n",
    "\n",
    "#     # # if len(plate) != 8:\n",
    "#     # #     raise MyError()\n",
    "\n",
    "#     # if not (plate[-4:].isdigit()):\n",
    "#     #     raise MyError()\n",
    "        \n",
    "#     # if not (plate[-5]) in hangul:\n",
    "#     #     raise MyError()\n",
    "    \n",
    "#     # if not (plate[-8:-5].isdigit()):\n",
    "#     #     raise MyError()\n",
    "\n",
    "#     print(len(plate))\n",
    "\n",
    "#     # if len(plate) != 9:\n",
    "        \n",
    "#     #     raise MyError()\n",
    "    \n",
    "#     if not (plate[-4:].isdigit()):\n",
    "#         raise MyError()\n",
    "    \n",
    "#     if not (plate[-5]) in hangul:\n",
    "#         raise MyError()\n",
    "\n",
    "#     if not (plate[-7:-5].isdigit()):\n",
    "#         raise MyError()\n",
    "    \n",
    "#     if len(plate) == 9:\n",
    "#         if not (plate[:2]) in ['서울', '대전']:\n",
    "#             raise MyError()\n",
    "\n",
    "#     # if not (plate[0:2].isalpha()):\n",
    "#     #     raise MyError()\n",
    "\n",
    "#         # if not (plate[-4:].isdigit()):\n",
    "#         #     if not (plate[-5].isalpha()):\n",
    "\n",
    "# try:\n",
    "\n",
    "#     # check('121가1234')\n",
    "#     # check('23가1234')\n",
    "#     check('서울23가1234')\n",
    "\n",
    "\n",
    "\n",
    "# except MyError as e:\n",
    "#     print(e)"
   ]
  }
 ],
 "metadata": {
  "kernelspec": {
   "display_name": "Python 3",
   "language": "python",
   "name": "python3"
  },
  "language_info": {
   "codemirror_mode": {
    "name": "ipython",
    "version": 3
   },
   "file_extension": ".py",
   "mimetype": "text/x-python",
   "name": "python",
   "nbconvert_exporter": "python",
   "pygments_lexer": "ipython3",
   "version": "3.11.3"
  },
  "orig_nbformat": 4
 },
 "nbformat": 4,
 "nbformat_minor": 2
}
