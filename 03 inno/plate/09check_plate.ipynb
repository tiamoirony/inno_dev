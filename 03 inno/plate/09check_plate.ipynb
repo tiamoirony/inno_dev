{
 "cells": [
  {
   "cell_type": "code",
   "execution_count": 21,
   "metadata": {},
   "outputs": [],
   "source": [
    "# 에러 커스텀라이징\n",
    "\n",
    "class DigitError(Exception):\n",
    "    pass\n",
    "\n",
    "\n",
    "class IntegerError(Exception):\n",
    "    pass\n",
    "\n",
    "\n",
    "class StringError(Exception):\n",
    "    pass\n",
    "\n",
    "\n",
    "class LocalNotMatchError(Exception):\n",
    "    pass\n",
    "\n",
    "\n",
    "class HangulNotMatchError(Exception):\n",
    "    pass"
   ]
  },
  {
   "cell_type": "code",
   "execution_count": 25,
   "metadata": {},
   "outputs": [
    {
     "name": "stdout",
     "output_type": "stream",
     "text": [
      "('23무1234', 'Success', '통과입니다.')\n",
      "('25어저서울25어', 'IntegerError:', '번호판 자리가 맞지 않습니다.')\n",
      "('11서울40다7500', 'DigitError:', '번호판 자리가 맞지 않습니다.')\n",
      "('23무1234', 'Success', '통과입니다.')\n",
      "('0644169', 'LocalNotMatchError:', '해당 지역명이 아니거나 정확한 위치가 아닙니다.')\n",
      "('36서울9567', 'LocalNotMatchError:', '해당 지역명이 아니거나 정확한 위치가 아닙니다.')\n",
      "('363서98363', 'LocalNotMatchError:', '해당 지역명이 아니거나 정확한 위치가 아닙니다.')\n",
      "('충기4아3613', 'IntegerError:', '번호판 자리가 맞지 않습니다.')\n",
      "('196나196나9', 'IntegerError:', '번호판 자리가 맞지 않습니다.')\n",
      "('전주80다4628', 'LocalNotMatchError:', '해당 지역명이 아니거나 정확한 위치가 아닙니다.')\n",
      "('396주호1050', 'LocalNotMatchError:', '해당 지역명이 아니거나 정확한 위치가 아닙니다.')\n",
      "('05ㅁ1371', 'LocalNotMatchError:', '해당 지역명이 아니거나 정확한 위치가 아닙니다.')\n"
     ]
    },
    {
     "ename": "",
     "evalue": "",
     "output_type": "error",
     "traceback": [
      "\u001b[1;31mThe Kernel crashed while executing code in the the current cell or a previous cell. Please review the code in the cell(s) to identify a possible cause of the failure. Click <a href='https://aka.ms/vscodeJupyterKernelCrash'>here</a> for more info. View Jupyter <a href='command:jupyter.viewOutput'>log</a> for further details."
     ]
    }
   ],
   "source": [
    "class PlateScan:\n",
    "    def __init__(self, plate):\n",
    "        self.plate = plate\n",
    "\n",
    "\n",
    "    def plate_check(self):\n",
    "\n",
    "        basic = ['가', '거', '고', '구', '나', '너', '노', '누','다','더','도','루', '라','러',\n",
    "        '로','루','마', '머','모','무','버','보','부','서','소','수','어','오','우','저','조','주']\n",
    "\n",
    "        rent = ['하', '허', '호']\n",
    "        buisnss = ['아', '바', '사', '자', \"배\"]\n",
    "        \n",
    "\n",
    "        self.hangul = basic + rent + buisnss\n",
    "        self.local = ['서울', '부산','대구','인천','광주','대전','울산','경기','강원','충북','충남','전북','전남','경북','경남','제주','세종']\n",
    "\n",
    "        if len(self.plate) not in [7, 8, 9]:             \n",
    "            raise DigitError(self.plate, 'DigitError:' , '번호판 자리가 맞지 않습니다.')\n",
    "        \n",
    "        elif not (self.plate[-4:].isdigit()) :\n",
    "            raise IntegerError(self.plate, 'IntegerError:' ,'번호판 자리가 맞지 않습니다.')\n",
    "\n",
    "        elif not (self.plate[-5]) in self.hangul:\n",
    "            raise HangulNotMatchError(self.plate, 'LocalNotMatchError:' , '해당 지역명이 아니거나 정확한 위치가 아닙니다.')\n",
    "        \n",
    "        elif len(self.plate) == 9:\n",
    "\n",
    "            if not self.plate[:2] in self.local:        \n",
    "                raise LocalNotMatchError(self.plate, 'LocalNotMatchError:' , '해당 지역명이 아니거나 정확한 위치가 아닙니다.')\n",
    "            \n",
    "            elif not(self.plate[2:4].isdigit()):\n",
    "                raise IntegerError(self.plate, 'IntegerError:' , '번호판 자리가 맞지 않습니다.')\n",
    "\n",
    "        elif len(self.plate) == 8:                      \n",
    "            if not (self.plate[:3].isdigit()):\n",
    "                raise IntegerError(self.plate, 'IntegerError:' , '번호판 자리가 맞지 않습니다.')\n",
    "\n",
    "        elif len(self.plate) == 7:                      \n",
    "            if not (self.plate[:2].isdigit()):          \n",
    "                raise IntegerError(self.plate, 'IntegerError:' , '번호판 자리가 맞지 않습니다.')\n",
    "    \n",
    "        return True\n",
    "\n",
    "\n",
    "plates = ['23무1234', '25어저서울25어', '11서울40다7500','23무1234', '0644169', '36서울9567', '363서98363', '충기4아3613', '196나196나9', '전주80다4628', '396주호1050', '05ㅁ1371']\n",
    "\n",
    "for plate in plates:\n",
    "    try: \n",
    "        plate_scan = PlateScan(plate)\n",
    "        plate_scan.plate_check()\n",
    "        print(tuple([plate, 'Success', '통과입니다.']))\n",
    "\n",
    "    except (DigitError, IntegerError, HangulNotMatchError, LocalNotMatchError) as e:\n",
    "        print(e)\n"
   ]
  }
 ],
 "metadata": {
  "kernelspec": {
   "display_name": "Python 3",
   "language": "python",
   "name": "python3"
  },
  "language_info": {
   "codemirror_mode": {
    "name": "ipython",
    "version": 3
   },
   "file_extension": ".py",
   "mimetype": "text/x-python",
   "name": "python",
   "nbconvert_exporter": "python",
   "pygments_lexer": "ipython3",
   "version": "3.11.3"
  },
  "orig_nbformat": 4
 },
 "nbformat": 4,
 "nbformat_minor": 2
}
