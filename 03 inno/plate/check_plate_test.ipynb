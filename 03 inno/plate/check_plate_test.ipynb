{
 "cells": [
  {
   "cell_type": "code",
   "execution_count": 4,
   "metadata": {},
   "outputs": [
    {
     "name": "stdout",
     "output_type": "stream",
     "text": [
      "허용되지 않는 번호판입니다.\n"
     ]
    }
   ],
   "source": [
    "class MyError(Exception):\n",
    "    def __str__(self): \n",
    "\n",
    "        return \"허용되지 않는 번호판입니다.\"\n",
    "    \n",
    "hangul = ['가', '아']\n",
    "local = ['서율', '대전'] \n",
    "\n",
    "def check(plate):\n",
    "\n",
    "\n",
    "    if len(plate) != 7:\n",
    "        raise MyError()\n",
    "\n",
    "    if not (plate[-5].isalpha()) :\n",
    "        raise MyError()\n",
    "    \n",
    "    if not plate == hangul:\n",
    "        raise MyError()\n",
    "\n",
    "    if not (plate[-7:-5].isdigit()):\n",
    "        \n",
    "        raise MyError()\n",
    "    \n",
    "\n",
    "try:\n",
    "\n",
    "    # check('121가1234')\n",
    "    check('23가1234')\n",
    "    # check('서울23가1234')\n",
    "\n",
    "\n",
    "\n",
    "except MyError as e:\n",
    "    print(e)"
   ]
  }
 ],
 "metadata": {
  "kernelspec": {
   "display_name": "Python 3",
   "language": "python",
   "name": "python3"
  },
  "language_info": {
   "codemirror_mode": {
    "name": "ipython",
    "version": 3
   },
   "file_extension": ".py",
   "mimetype": "text/x-python",
   "name": "python",
   "nbconvert_exporter": "python",
   "pygments_lexer": "ipython3",
   "version": "3.11.3"
  },
  "orig_nbformat": 4
 },
 "nbformat": 4,
 "nbformat_minor": 2
}
