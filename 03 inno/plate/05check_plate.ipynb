{
 "cells": [
  {
   "cell_type": "code",
   "execution_count": 7,
   "metadata": {},
   "outputs": [
    {
     "ename": "TypeError",
     "evalue": "__str__ returned non-string (type tuple)",
     "output_type": "error",
     "traceback": [
      "\u001b[1;31m---------------------------------------------------------------------------\u001b[0m",
      "\u001b[1;31mDigitError\u001b[0m                                Traceback (most recent call last)",
      "Cell \u001b[1;32mIn[7], line 90\u001b[0m\n\u001b[0;32m     89\u001b[0m \u001b[39mtry\u001b[39;00m:\n\u001b[1;32m---> 90\u001b[0m     check(\u001b[39m'\u001b[39;49m\u001b[39m11서울40다7500\u001b[39;49m\u001b[39m'\u001b[39;49m)\n\u001b[0;32m     92\u001b[0m \u001b[39mexcept\u001b[39;00m DigitError \u001b[39mas\u001b[39;00m d:\n",
      "Cell \u001b[1;32mIn[7], line 62\u001b[0m, in \u001b[0;36mcheck\u001b[1;34m(plate)\u001b[0m\n\u001b[0;32m     61\u001b[0m \u001b[39mif\u001b[39;00m \u001b[39mlen\u001b[39m(plate) \u001b[39mnot\u001b[39;00m \u001b[39min\u001b[39;00m [\u001b[39m7\u001b[39m, \u001b[39m8\u001b[39m, \u001b[39m9\u001b[39m]:             \n\u001b[1;32m---> 62\u001b[0m     \u001b[39mraise\u001b[39;00m DigitError(plate)\n\u001b[0;32m     64\u001b[0m \u001b[39melif\u001b[39;00m \u001b[39mnot\u001b[39;00m (plate[\u001b[39m-\u001b[39m\u001b[39m4\u001b[39m:]\u001b[39m.\u001b[39misdigit()) :\n",
      "\u001b[1;31m<class 'str'>\u001b[0m: (<class 'TypeError'>, TypeError('__str__ returned non-string (type tuple)'))",
      "\nDuring handling of the above exception, another exception occurred:\n",
      "\u001b[1;31mTypeError\u001b[0m                                 Traceback (most recent call last)",
      "Cell \u001b[1;32mIn[7], line 93\u001b[0m\n\u001b[0;32m     90\u001b[0m     check(\u001b[39m'\u001b[39m\u001b[39m11서울40다7500\u001b[39m\u001b[39m'\u001b[39m)\n\u001b[0;32m     92\u001b[0m \u001b[39mexcept\u001b[39;00m DigitError \u001b[39mas\u001b[39;00m d:\n\u001b[1;32m---> 93\u001b[0m     \u001b[39mprint\u001b[39;49m(d)\n\u001b[0;32m     95\u001b[0m \u001b[39mexcept\u001b[39;00m FloatError \u001b[39mas\u001b[39;00m f:\n\u001b[0;32m     96\u001b[0m     \u001b[39mprint\u001b[39m(f)\n",
      "\u001b[1;31mTypeError\u001b[0m: __str__ returned non-string (type tuple)"
     ]
    }
   ],
   "source": [
    "\n",
    "class DigitError(Exception):\n",
    "    def __init__(self, plate):\n",
    "        self.plate = plate\n",
    "        self.message = '번호판 자리가 맞지 않습니다.'\n",
    "\n",
    "    def __str__(self):\n",
    "        return 'DigitError ' , self.message\n",
    "\n",
    "\n",
    "class FloatError(Exception):\n",
    "    def __init__(self, plate):\n",
    "        self.plate = plate\n",
    "        self.message = '번호판 자리가 맞지 않거나 정수가 아닙니다.'\n",
    "\n",
    "    def __str__(self):\n",
    "        return 'FloatError ' + self.message\n",
    "\n",
    "\n",
    "class StringError(Exception):\n",
    "    def __init__(self, plate):\n",
    "        self.plate = plate\n",
    "        self.message = '번호판 자리가 맞지 않거나 문자가 아닙니다.'\n",
    "\n",
    "    def __str__(self):\n",
    "        return 'StringError ' + self.message\n",
    "\n",
    "\n",
    "class LocalNotMatchError(Exception):\n",
    "    def __init__(self, plate):\n",
    "        self.plate = plate\n",
    "        self.message = '해당 지역명이 아니거나 정확한 위치가 아닙니다.'\n",
    "\n",
    "    def __str__(self):\n",
    "        return 'LocalNotMatchError ' + self.message\n",
    "\n",
    "\n",
    "class HangulNotMatchError(Exception):\n",
    "    def __init__(self, plate):\n",
    "        self.plate = plate\n",
    "        self.message = '해당되는 번호판 문자가 아니거나 정확한 위치가 아닙니다.'\n",
    "\n",
    "    def __str__(self):\n",
    "        return 'HangulNotMatchError ' + self.message\n",
    "\n",
    "\n",
    "\n",
    "\n",
    "def check(plate):\n",
    "\n",
    "    plate = plate\n",
    "\n",
    "    basic = ['가', '거', '고', '구', '나', '너', '노', '누','다','더','도','루', '라','러','로','루','마', '머','모','무','버','보','부','서','소','수','어','오','우','저','조','주']\n",
    "    rent = ['하', '허', '호']\n",
    "    buisnss = ['아', '바', '사', '자', \"배\"]\n",
    "\n",
    "    # print(len(basic))\n",
    "    \n",
    "    hangul = basic + rent + buisnss\n",
    "    local = ['서울', '부산','대구','인천','광주','대전','울산','경기','강원','충북','충남','전북','전남','경북','경남','제주','세종']\n",
    "\n",
    "    if len(plate) not in [7, 8, 9]:             \n",
    "        raise DigitError(plate)\n",
    "    \n",
    "    elif not (plate[-4:].isdigit()) :\n",
    "        raise FloatError(plate)\n",
    "\n",
    "    elif not (plate[-5]) in hangul:       \n",
    "        raise HangulNotMatchError(plate)\n",
    "    \n",
    "    elif len(plate) == 9:                      \n",
    "\n",
    "        if not plate[:2] in local:        \n",
    "            raise LocalNotMatchError(plate)\n",
    "        \n",
    "        elif not(plate[2:4].isdigit()):        \n",
    "            raise FloatError(plate)\n",
    "\n",
    "    elif len(plate) == 8:                      \n",
    "        if not (plate[:3].isdigit()):          \n",
    "            raise FloatError(plate)\n",
    "\n",
    "    elif len(plate) == 7:                      \n",
    "        if not (plate[:2].isdigit()):          \n",
    "            raise FloatError(plate)\n",
    "\n",
    "    return True\n",
    "    \n",
    "\n",
    "try:\n",
    "    check('11서울40다7500')\n",
    "\n",
    "except DigitError as d:\n",
    "    print(d)\n",
    "\n",
    "except FloatError as f:\n",
    "    print(f)\n",
    "\n",
    "\n",
    "\n",
    "# # list \n",
    "# plate = ['11서울40다7500', '111서울40다7500', '11111서울40다7500']\n",
    "\n",
    "# for i in range(0,4):\n",
    "#     print(i)\n",
    "#     a = PlateScan(plate[i])\n",
    "#     a.check()\n"
   ]
  },
  {
   "cell_type": "code",
   "execution_count": 41,
   "metadata": {},
   "outputs": [
    {
     "ename": "FloatError",
     "evalue": "FloatError 번호판 자리가 맞지 않거나 정수가 아닙니다.",
     "output_type": "error",
     "traceback": [
      "\u001b[1;31m---------------------------------------------------------------------------\u001b[0m",
      "\u001b[1;31mFloatError\u001b[0m                                Traceback (most recent call last)",
      "Cell \u001b[1;32mIn[41], line 2\u001b[0m\n\u001b[0;32m      1\u001b[0m c \u001b[39m=\u001b[39m PlateScan(\u001b[39m'\u001b[39m\u001b[39m25어저서울25어\u001b[39m\u001b[39m'\u001b[39m)\n\u001b[1;32m----> 2\u001b[0m c\u001b[39m.\u001b[39;49mcheck()\n",
      "Cell \u001b[1;32mIn[38], line 86\u001b[0m, in \u001b[0;36mPlateScan.check\u001b[1;34m(self)\u001b[0m\n\u001b[0;32m     83\u001b[0m     \u001b[39mraise\u001b[39;00m DigitError(\u001b[39mself\u001b[39m\u001b[39m.\u001b[39mplate)\n\u001b[0;32m     85\u001b[0m \u001b[39melif\u001b[39;00m \u001b[39mnot\u001b[39;00m (\u001b[39mself\u001b[39m\u001b[39m.\u001b[39mplate[\u001b[39m-\u001b[39m\u001b[39m4\u001b[39m:]\u001b[39m.\u001b[39misdigit()) :\n\u001b[1;32m---> 86\u001b[0m     \u001b[39mraise\u001b[39;00m FloatError(\u001b[39mself\u001b[39m\u001b[39m.\u001b[39mplate)\n\u001b[0;32m     88\u001b[0m \u001b[39melif\u001b[39;00m \u001b[39mnot\u001b[39;00m (\u001b[39mself\u001b[39m\u001b[39m.\u001b[39mplate[\u001b[39m-\u001b[39m\u001b[39m5\u001b[39m]) \u001b[39min\u001b[39;00m \u001b[39mself\u001b[39m\u001b[39m.\u001b[39mhangul:       \n\u001b[0;32m     89\u001b[0m     \u001b[39mraise\u001b[39;00m HangulNotMatchError(\u001b[39mself\u001b[39m\u001b[39m.\u001b[39mplate)\n",
      "\u001b[1;31mFloatError\u001b[0m: FloatError 번호판 자리가 맞지 않거나 정수가 아닙니다."
     ]
    }
   ],
   "source": [
    "c = PlateScan('25어저서울25어')\n",
    "c.check()"
   ]
  },
  {
   "cell_type": "code",
   "execution_count": 40,
   "metadata": {},
   "outputs": [
    {
     "ename": "HangulNotMatchError",
     "evalue": "HangulNotMatchError 해당되는 번호판 문자가 아니거나 정확한 위치가 아닙니다.",
     "output_type": "error",
     "traceback": [
      "\u001b[1;31m---------------------------------------------------------------------------\u001b[0m",
      "\u001b[1;31mHangulNotMatchError\u001b[0m                       Traceback (most recent call last)",
      "Cell \u001b[1;32mIn[40], line 2\u001b[0m\n\u001b[0;32m      1\u001b[0m d \u001b[39m=\u001b[39m PlateScan(\u001b[39m'\u001b[39m\u001b[39m0644169\u001b[39m\u001b[39m'\u001b[39m)\n\u001b[1;32m----> 2\u001b[0m d\u001b[39m.\u001b[39;49mcheck()\n",
      "Cell \u001b[1;32mIn[38], line 89\u001b[0m, in \u001b[0;36mPlateScan.check\u001b[1;34m(self)\u001b[0m\n\u001b[0;32m     86\u001b[0m     \u001b[39mraise\u001b[39;00m FloatError(\u001b[39mself\u001b[39m\u001b[39m.\u001b[39mplate)\n\u001b[0;32m     88\u001b[0m \u001b[39melif\u001b[39;00m \u001b[39mnot\u001b[39;00m (\u001b[39mself\u001b[39m\u001b[39m.\u001b[39mplate[\u001b[39m-\u001b[39m\u001b[39m5\u001b[39m]) \u001b[39min\u001b[39;00m \u001b[39mself\u001b[39m\u001b[39m.\u001b[39mhangul:       \n\u001b[1;32m---> 89\u001b[0m     \u001b[39mraise\u001b[39;00m HangulNotMatchError(\u001b[39mself\u001b[39m\u001b[39m.\u001b[39mplate)\n\u001b[0;32m     91\u001b[0m \u001b[39melif\u001b[39;00m \u001b[39mlen\u001b[39m(\u001b[39mself\u001b[39m\u001b[39m.\u001b[39mplate) \u001b[39m==\u001b[39m \u001b[39m9\u001b[39m:                      \n\u001b[0;32m     93\u001b[0m     \u001b[39mif\u001b[39;00m \u001b[39mnot\u001b[39;00m \u001b[39mself\u001b[39m\u001b[39m.\u001b[39mplate[:\u001b[39m2\u001b[39m] \u001b[39min\u001b[39;00m \u001b[39mself\u001b[39m\u001b[39m.\u001b[39mlocal:        \n",
      "\u001b[1;31mHangulNotMatchError\u001b[0m: HangulNotMatchError 해당되는 번호판 문자가 아니거나 정확한 위치가 아닙니다."
     ]
    }
   ],
   "source": [
    "d = PlateScan('0644169')\n",
    "d.check()"
   ]
  },
  {
   "cell_type": "code",
   "execution_count": 39,
   "metadata": {},
   "outputs": [
    {
     "ename": "HangulNotMatchError",
     "evalue": "HangulNotMatchError 해당되는 번호판 문자가 아니거나 정확한 위치가 아닙니다.",
     "output_type": "error",
     "traceback": [
      "\u001b[1;31m---------------------------------------------------------------------------\u001b[0m",
      "\u001b[1;31mHangulNotMatchError\u001b[0m                       Traceback (most recent call last)",
      "Cell \u001b[1;32mIn[39], line 2\u001b[0m\n\u001b[0;32m      1\u001b[0m e \u001b[39m=\u001b[39m PlateScan(\u001b[39m'\u001b[39m\u001b[39m36서울9567\u001b[39m\u001b[39m'\u001b[39m)\n\u001b[1;32m----> 2\u001b[0m e\u001b[39m.\u001b[39;49mcheck()\n",
      "Cell \u001b[1;32mIn[38], line 89\u001b[0m, in \u001b[0;36mPlateScan.check\u001b[1;34m(self)\u001b[0m\n\u001b[0;32m     86\u001b[0m     \u001b[39mraise\u001b[39;00m FloatError(\u001b[39mself\u001b[39m\u001b[39m.\u001b[39mplate)\n\u001b[0;32m     88\u001b[0m \u001b[39melif\u001b[39;00m \u001b[39mnot\u001b[39;00m (\u001b[39mself\u001b[39m\u001b[39m.\u001b[39mplate[\u001b[39m-\u001b[39m\u001b[39m5\u001b[39m]) \u001b[39min\u001b[39;00m \u001b[39mself\u001b[39m\u001b[39m.\u001b[39mhangul:       \n\u001b[1;32m---> 89\u001b[0m     \u001b[39mraise\u001b[39;00m HangulNotMatchError(\u001b[39mself\u001b[39m\u001b[39m.\u001b[39mplate)\n\u001b[0;32m     91\u001b[0m \u001b[39melif\u001b[39;00m \u001b[39mlen\u001b[39m(\u001b[39mself\u001b[39m\u001b[39m.\u001b[39mplate) \u001b[39m==\u001b[39m \u001b[39m9\u001b[39m:                      \n\u001b[0;32m     93\u001b[0m     \u001b[39mif\u001b[39;00m \u001b[39mnot\u001b[39;00m \u001b[39mself\u001b[39m\u001b[39m.\u001b[39mplate[:\u001b[39m2\u001b[39m] \u001b[39min\u001b[39;00m \u001b[39mself\u001b[39m\u001b[39m.\u001b[39mlocal:        \n",
      "\u001b[1;31mHangulNotMatchError\u001b[0m: HangulNotMatchError 해당되는 번호판 문자가 아니거나 정확한 위치가 아닙니다."
     ]
    }
   ],
   "source": [
    "e = PlateScan('36서울9567')\n",
    "e.check()"
   ]
  },
  {
   "cell_type": "code",
   "execution_count": 18,
   "metadata": {},
   "outputs": [
    {
     "data": {
      "text/plain": [
       "(303, '번호판 끝 다섯번째 자리가 맞지 않거나 문자가 아닙니다.')"
      ]
     },
     "execution_count": 18,
     "metadata": {},
     "output_type": "execute_result"
    }
   ],
   "source": [
    "f = Start('363서98363')\n",
    "f.check()"
   ]
  },
  {
   "cell_type": "code",
   "execution_count": 17,
   "metadata": {},
   "outputs": [
    {
     "data": {
      "text/plain": [
       "(202, '번호판 끝 네번째까지 네자리가 아니거나 숫자가 아닙니다.')"
      ]
     },
     "execution_count": 17,
     "metadata": {},
     "output_type": "execute_result"
    }
   ],
   "source": [
    "g = Start('196나196나9')\n",
    "g.check()"
   ]
  },
  {
   "cell_type": "code",
   "execution_count": 16,
   "metadata": {},
   "outputs": [
    {
     "data": {
      "text/plain": [
       "(606, '해당 앞에서 둘째 짜리까지 두자리가 아니거나 숫자가 아닙니다.')"
      ]
     },
     "execution_count": 16,
     "metadata": {},
     "output_type": "execute_result"
    }
   ],
   "source": [
    "h = Start('충기4아3613')\n",
    "h.check()"
   ]
  },
  {
   "cell_type": "code",
   "execution_count": 15,
   "metadata": {},
   "outputs": [
    {
     "data": {
      "text/plain": [
       "(404, '해당 지역명이 아니거나 오타입니다.')"
      ]
     },
     "execution_count": 15,
     "metadata": {},
     "output_type": "execute_result"
    }
   ],
   "source": [
    "i = Start('전주80다4628')\n",
    "i.check()"
   ]
  },
  {
   "cell_type": "code",
   "execution_count": 14,
   "metadata": {},
   "outputs": [
    {
     "data": {
      "text/plain": [
       "(404, '해당 지역명이 아니거나 오타입니다.')"
      ]
     },
     "execution_count": 14,
     "metadata": {},
     "output_type": "execute_result"
    }
   ],
   "source": [
    "j = Start('인원31바7921')\n",
    "j.check()"
   ]
  },
  {
   "cell_type": "code",
   "execution_count": 13,
   "metadata": {},
   "outputs": [
    {
     "data": {
      "text/plain": [
       "(404, '해당 지역명이 아니거나 오타입니다.')"
      ]
     },
     "execution_count": 13,
     "metadata": {},
     "output_type": "execute_result"
    }
   ],
   "source": [
    "k = Start('396주호1050')\n",
    "k.check()"
   ]
  },
  {
   "cell_type": "code",
   "execution_count": 12,
   "metadata": {},
   "outputs": [
    {
     "data": {
      "text/plain": [
       "(303, '번호판 끝 다섯번째 자리가 맞지 않거나 문자가 아닙니다.')"
      ]
     },
     "execution_count": 12,
     "metadata": {},
     "output_type": "execute_result"
    }
   ],
   "source": [
    "l = Start('05ㅁ1371')\n",
    "l.check()"
   ]
  },
  {
   "cell_type": "code",
   "execution_count": 30,
   "metadata": {},
   "outputs": [
    {
     "name": "stdout",
     "output_type": "stream",
     "text": [
      "7\n"
     ]
    }
   ],
   "source": [
    "class MyError(Exception):\n",
    "    def __str__(self): \n",
    "\n",
    "        return \"허용되지 않는 번호판입니다.\"\n",
    "\n",
    "\n",
    "hangul = ['가', '아']\n",
    "local = ['서울', '대전'] \n",
    "\n",
    "\n",
    "def check(plate):\n",
    "\n",
    "\n",
    "    if len(plate) not in [7, 8, 9]:\n",
    "        raise MyError()\n",
    "\n",
    "    if not (plate[-4:].isdigit()) :\n",
    "        raise MyError()\n",
    "    \n",
    "    if not (plate[-5]).isalpha():\n",
    "        raise MyError()\n",
    "    \n",
    "\n",
    "    if not (plate[-7:-5].isdigit()):\n",
    "        if not (plate[-8:-5].isdigit()):\n",
    "            raise MyError()\n",
    "\n",
    "    print(len(plate))\n",
    "\n",
    "    if len(plate) == 9:\n",
    "        if not (plate[:2]) in local:\n",
    "            raise MyError()\n",
    "\n",
    "    # if not (plate[0:2].isalpha()):\n",
    "    #     raise MyError()\n",
    "\n",
    "        # if not (plate[-4:].isdigit()):\n",
    "        #     if not (plate[-5].isalpha()):\n",
    "\n",
    "try:\n",
    "\n",
    "    # check('121가1234')\n",
    "    check('23가1234')\n",
    "    # check('서울23가1234')\n",
    "\n",
    "\n",
    "\n",
    "except MyError as e:\n",
    "    print(e)"
   ]
  },
  {
   "cell_type": "code",
   "execution_count": null,
   "metadata": {},
   "outputs": [],
   "source": [
    "# hangul = ['가', '아']\n",
    "# local = ['서율', '대전']\n",
    "\n",
    "\n",
    "# class MyError(Exception):\n",
    "#     def __str__(self): \n",
    "\n",
    "#         return \"허용되지 않는 번호판입니다.\"\n",
    "    \n",
    "# hangul = ['가', '아']\n",
    "# local = ['서울', '대전'] \n",
    "\n",
    "# def check(plate):\n",
    "\n",
    "\n",
    "#     if len(plate) not in [7, 8, 9]:\n",
    "#         raise MyError()\n",
    "\n",
    "#     if not (plate[-4:].isdigit()) :\n",
    "#         raise MyError()\n",
    "    \n",
    "#     if not (plate[-5]) in hangul:\n",
    "#         raise MyError()\n",
    "\n",
    "#     if not (plate[-7:-5].isdigit()):\n",
    "        \n",
    "#         raise MyError()\n",
    "\n",
    "\n",
    "#     # # if len(plate) != 8:\n",
    "#     # #     raise MyError()\n",
    "\n",
    "#     # if not (plate[-4:].isdigit()):\n",
    "#     #     raise MyError()\n",
    "        \n",
    "#     # if not (plate[-5]) in hangul:\n",
    "#     #     raise MyError()\n",
    "    \n",
    "#     # if not (plate[-8:-5].isdigit()):\n",
    "#     #     raise MyError()\n",
    "\n",
    "#     print(len(plate))\n",
    "\n",
    "#     # if len(plate) != 9:\n",
    "        \n",
    "#     #     raise MyError()\n",
    "    \n",
    "#     if not (plate[-4:].isdigit()):\n",
    "#         raise MyError()\n",
    "    \n",
    "#     if not (plate[-5]) in hangul:\n",
    "#         raise MyError()\n",
    "\n",
    "#     if not (plate[-7:-5].isdigit()):\n",
    "#         raise MyError()\n",
    "    \n",
    "#     if len(plate) == 9:\n",
    "#         if not (plate[:2]) in ['서울', '대전']:\n",
    "#             raise MyError()\n",
    "\n",
    "#     # if not (plate[0:2].isalpha()):\n",
    "#     #     raise MyError()\n",
    "\n",
    "#         # if not (plate[-4:].isdigit()):\n",
    "#         #     if not (plate[-5].isalpha()):\n",
    "\n",
    "# try:\n",
    "\n",
    "#     # check('121가1234')\n",
    "#     # check('23가1234')\n",
    "#     check('서울23가1234')\n",
    "\n",
    "\n",
    "\n",
    "# except MyError as e:\n",
    "#     print(e)"
   ]
  }
 ],
 "metadata": {
  "kernelspec": {
   "display_name": "Python 3",
   "language": "python",
   "name": "python3"
  },
  "language_info": {
   "codemirror_mode": {
    "name": "ipython",
    "version": 3
   },
   "file_extension": ".py",
   "mimetype": "text/x-python",
   "name": "python",
   "nbconvert_exporter": "python",
   "pygments_lexer": "ipython3",
   "version": "3.11.3"
  },
  "orig_nbformat": 4
 },
 "nbformat": 4,
 "nbformat_minor": 2
}
