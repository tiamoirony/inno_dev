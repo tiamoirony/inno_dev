{
 "cells": [
  {
   "cell_type": "code",
   "execution_count": 31,
   "metadata": {},
   "outputs": [
    {
     "name": "stdout",
     "output_type": "stream",
     "text": [
      "['1', '20211202214506', '671246']\n",
      "['1', '20211208140219', '452197']\n",
      "['1', '20211214191012', '704036']\n",
      "['1', '20211214191913', '393109']\n",
      "['sss.ipynb']\n"
     ]
    }
   ],
   "source": [
    "import os\n",
    "\n",
    "file_extension = '.jpg'\n",
    "\n",
    "for filename in os.listdir('.'):\n",
    "    if os.path.isfile(filename):\n",
    "        parts = filename.split('_')\n",
    "\n",
    "        new_parts = parts[:3] + parts[4:]\n",
    "        print(new_parts)\n",
    "\n",
    "        new_filename = new_filename = '_'.join(new_parts)\n",
    "        new_filename2 = new_filename + file_extension\n",
    "        \n",
    "        os.rename(filename, new_filename2)"
   ]
  },
  {
   "cell_type": "code",
   "execution_count": null,
   "metadata": {},
   "outputs": [],
   "source": [
    "import os\n",
    "\n",
    "file_extension = '.txt'\n",
    "\n",
    "for filename in os.listdir('.'):\n",
    "    if os.path.isfile(filename):\n",
    "        parts = filename.split('_')\n",
    "\n",
    "        new_parts = parts[:3] + parts[4:]\n",
    "        print(new_parts)\n",
    "\n",
    "        new_filename = new_filename = '_'.join(new_parts)\n",
    "        new_filename2 = new_filename + file_extension\n",
    "        \n",
    "        os.rename(filename, new_filename2)"
   ]
  },
  {
   "cell_type": "code",
   "execution_count": 32,
   "metadata": {},
   "outputs": [
    {
     "name": "stdout",
     "output_type": "stream",
     "text": [
      "['1', '20211202214506', '671246']\n",
      "['1', '20211202214506', '671246', 'plate.txt']\n",
      "['1', '20211208140219', '452197']\n",
      "['1', '20211208140219', '452197', 'plate.txt']\n",
      "['sss.ipynb']\n"
     ]
    }
   ],
   "source": [
    "import os\n",
    "\n",
    "file_extension = '.jpg'\n",
    "\n",
    "for filename in os.listdir('.'):\n",
    "    if os.path.isfile(filename):\n",
    "        parts = filename.split('_')\n",
    "\n",
    "        new_parts = parts[:3] + parts[4:]\n",
    "        print(new_parts)\n",
    "\n",
    "        new_filename = new_filename = '_'.join(new_parts)\n",
    "\n",
    "        \n",
    "        os.rename(filename, new_filename)"
   ]
  },
  {
   "cell_type": "code",
   "execution_count": 20,
   "metadata": {},
   "outputs": [
    {
     "name": "stdout",
     "output_type": "stream",
     "text": [
      "['1', '서울서울91자41.jpg']\n",
      "['1', '서울서울91자41.txt']\n",
      "['1', '서울서울91자41', 'plate.txt']\n",
      "['sss.ipynb']\n"
     ]
    }
   ],
   "source": [
    "import os\n",
    "\n",
    "file_extension = '.jpg'\n",
    "\n",
    "for filename in os.listdir('.'):\n",
    "    if os.path.isfile(filename):\n",
    "\n",
    "\n",
    "        parts = filename.split('_')\n",
    "\n",
    "        new_parts = parts[:1] + parts[2:]\n",
    "        print(new_parts)\n",
    "\n",
    "        new_filename = new_filename = '_'.join(new_parts)\n",
    "        new_filename = new_filename + file_extension\n",
    "        os.rename(filename, new_filename)"
   ]
  },
  {
   "cell_type": "code",
   "execution_count": 29,
   "metadata": {},
   "outputs": [],
   "source": [
    "import os\n",
    "file_extension = '.jpg'\n",
    "\n",
    "for filename in os.listdir('.'):\n",
    "    if os.path.isfile(filename):\n",
    "\n",
    "        new_filename = filename + file_extension\n",
    "        os.rename(filename, new_filename)"
   ]
  }
 ],
 "metadata": {
  "kernelspec": {
   "display_name": "Python 3",
   "language": "python",
   "name": "python3"
  },
  "language_info": {
   "codemirror_mode": {
    "name": "ipython",
    "version": 3
   },
   "file_extension": ".py",
   "mimetype": "text/x-python",
   "name": "python",
   "nbconvert_exporter": "python",
   "pygments_lexer": "ipython3",
   "version": "3.9.0"
  },
  "orig_nbformat": 4
 },
 "nbformat": 4,
 "nbformat_minor": 2
}
